{
  "nbformat": 4,
  "nbformat_minor": 0,
  "metadata": {
    "colab": {
      "provenance": []
    },
    "kernelspec": {
      "name": "python3",
      "display_name": "Python 3"
    },
    "language_info": {
      "name": "python"
    }
  },
  "cells": [
    {
      "cell_type": "code",
      "source": [
        "import pandas as pd\n",
        "import numpy as np\n",
        "\n",
        "data=pd.read_csv(\"/content/Mall_Customers.csv\")\n",
        "print(data.head())"
      ],
      "metadata": {
        "colab": {
          "base_uri": "https://localhost:8080/"
        },
        "id": "G2FaiE_ZhOhJ",
        "outputId": "ad5c0dd8-9039-4169-b8cd-01b238908763"
      },
      "execution_count": 48,
      "outputs": [
        {
          "output_type": "stream",
          "name": "stdout",
          "text": [
            "   CustomerID  Gender  Age  Annual Income (k$)  Spending Score (1-100)\n",
            "0           1    Male   19                  15                      39\n",
            "1           2    Male   21                  15                      81\n",
            "2           3  Female   20                  16                       6\n",
            "3           4  Female   23                  16                      77\n",
            "4           5  Female   31                  17                      40\n"
          ]
        }
      ]
    },
    {
      "cell_type": "code",
      "source": [
        "data.info()"
      ],
      "metadata": {
        "colab": {
          "base_uri": "https://localhost:8080/"
        },
        "id": "rRgCco_rnqu-",
        "outputId": "d3e00fae-e58e-44b7-e014-6a30c4dc9de6"
      },
      "execution_count": 49,
      "outputs": [
        {
          "output_type": "stream",
          "name": "stdout",
          "text": [
            "<class 'pandas.core.frame.DataFrame'>\n",
            "RangeIndex: 200 entries, 0 to 199\n",
            "Data columns (total 5 columns):\n",
            " #   Column                  Non-Null Count  Dtype \n",
            "---  ------                  --------------  ----- \n",
            " 0   CustomerID              200 non-null    int64 \n",
            " 1   Gender                  200 non-null    object\n",
            " 2   Age                     200 non-null    int64 \n",
            " 3   Annual Income (k$)      200 non-null    int64 \n",
            " 4   Spending Score (1-100)  200 non-null    int64 \n",
            "dtypes: int64(4), object(1)\n",
            "memory usage: 7.9+ KB\n"
          ]
        }
      ]
    },
    {
      "cell_type": "code",
      "source": [
        "data.isnull().sum()"
      ],
      "metadata": {
        "colab": {
          "base_uri": "https://localhost:8080/",
          "height": 241
        },
        "id": "uDEUeXecmJJE",
        "outputId": "7eb62d68-d18b-47ee-ca3f-1ad96b75ed62"
      },
      "execution_count": 50,
      "outputs": [
        {
          "output_type": "execute_result",
          "data": {
            "text/plain": [
              "CustomerID                0\n",
              "Gender                    0\n",
              "Age                       0\n",
              "Annual Income (k$)        0\n",
              "Spending Score (1-100)    0\n",
              "dtype: int64"
            ],
            "text/html": [
              "<div>\n",
              "<style scoped>\n",
              "    .dataframe tbody tr th:only-of-type {\n",
              "        vertical-align: middle;\n",
              "    }\n",
              "\n",
              "    .dataframe tbody tr th {\n",
              "        vertical-align: top;\n",
              "    }\n",
              "\n",
              "    .dataframe thead th {\n",
              "        text-align: right;\n",
              "    }\n",
              "</style>\n",
              "<table border=\"1\" class=\"dataframe\">\n",
              "  <thead>\n",
              "    <tr style=\"text-align: right;\">\n",
              "      <th></th>\n",
              "      <th>0</th>\n",
              "    </tr>\n",
              "  </thead>\n",
              "  <tbody>\n",
              "    <tr>\n",
              "      <th>CustomerID</th>\n",
              "      <td>0</td>\n",
              "    </tr>\n",
              "    <tr>\n",
              "      <th>Gender</th>\n",
              "      <td>0</td>\n",
              "    </tr>\n",
              "    <tr>\n",
              "      <th>Age</th>\n",
              "      <td>0</td>\n",
              "    </tr>\n",
              "    <tr>\n",
              "      <th>Annual Income (k$)</th>\n",
              "      <td>0</td>\n",
              "    </tr>\n",
              "    <tr>\n",
              "      <th>Spending Score (1-100)</th>\n",
              "      <td>0</td>\n",
              "    </tr>\n",
              "  </tbody>\n",
              "</table>\n",
              "</div><br><label><b>dtype:</b> int64</label>"
            ]
          },
          "metadata": {},
          "execution_count": 50
        }
      ]
    },
    {
      "cell_type": "code",
      "source": [
        "#duplication\n",
        "duplicate_rows=data[data.duplicated()]\n",
        "print(duplicate_rows)\n",
        "data_cleaned=data.drop_duplicates()\n",
        "print(data_cleaned.head())"
      ],
      "metadata": {
        "colab": {
          "base_uri": "https://localhost:8080/"
        },
        "id": "WLyVQSUemTXI",
        "outputId": "2b1c41d2-ef16-4831-acf4-c784000fd44b"
      },
      "execution_count": 51,
      "outputs": [
        {
          "output_type": "stream",
          "name": "stdout",
          "text": [
            "Empty DataFrame\n",
            "Columns: [CustomerID, Gender, Age, Annual Income (k$), Spending Score (1-100)]\n",
            "Index: []\n",
            "   CustomerID  Gender  Age  Annual Income (k$)  Spending Score (1-100)\n",
            "0           1    Male   19                  15                      39\n",
            "1           2    Male   21                  15                      81\n",
            "2           3  Female   20                  16                       6\n",
            "3           4  Female   23                  16                      77\n",
            "4           5  Female   31                  17                      40\n"
          ]
        }
      ]
    },
    {
      "cell_type": "code",
      "source": [
        "#remove outlayers(z_score)\n",
        "from scipy.stats import zscore\n",
        "numeric_cols=data_cleaned.select_dtypes(include=[np.number]).columns\n",
        "z_score=zscore(data[numeric_cols])\n",
        "z_score_df=pd.DataFrame(z_score,columns=numeric_cols)\n",
        "outliers=(np.abs(z_score_df)>3).any(axis=1)\n",
        "data_cleaned=data[~outliers]\n",
        "data_cleaned.reset_index(drop=True,inplace=True)\n",
        "\n",
        "print(data_cleaned.head())\n",
        "print(\"Original shape:\",data.shape)\n",
        "print(\"Cleaned shape:\",data_cleaned.shape)"
      ],
      "metadata": {
        "colab": {
          "base_uri": "https://localhost:8080/"
        },
        "id": "ZXWlv5hNmtoP",
        "outputId": "804dcc37-b92e-4a4f-ce8c-07a91edb22ad"
      },
      "execution_count": 52,
      "outputs": [
        {
          "output_type": "stream",
          "name": "stdout",
          "text": [
            "   CustomerID  Gender  Age  Annual Income (k$)  Spending Score (1-100)\n",
            "0           1    Male   19                  15                      39\n",
            "1           2    Male   21                  15                      81\n",
            "2           3  Female   20                  16                       6\n",
            "3           4  Female   23                  16                      77\n",
            "4           5  Female   31                  17                      40\n",
            "Original shape: (200, 5)\n",
            "Cleaned shape: (200, 5)\n"
          ]
        }
      ]
    },
    {
      "cell_type": "code",
      "source": [
        "#label encoding\n",
        "from sklearn.preprocessing import LabelEncoder\n",
        "le=LabelEncoder()\n",
        "data_cleaned.loc[:,\"Gender\"]=le.fit_transform(data_cleaned.loc[:,\"Gender\"])\n",
        "print(data_cleaned.head())"
      ],
      "metadata": {
        "colab": {
          "base_uri": "https://localhost:8080/"
        },
        "id": "4HvD5HjFnXs1",
        "outputId": "3d932a85-f7a4-4463-d150-07fac6ba88d2"
      },
      "execution_count": 53,
      "outputs": [
        {
          "output_type": "stream",
          "name": "stdout",
          "text": [
            "   CustomerID Gender  Age  Annual Income (k$)  Spending Score (1-100)\n",
            "0           1      1   19                  15                      39\n",
            "1           2      1   21                  15                      81\n",
            "2           3      0   20                  16                       6\n",
            "3           4      0   23                  16                      77\n",
            "4           5      0   31                  17                      40\n"
          ]
        }
      ]
    },
    {
      "cell_type": "code",
      "source": [
        "from sklearn.preprocessing import PowerTransformer\n",
        "pt = PowerTransformer(method='yeo-johnson')\n",
        "data_normalized= pt.fit_transform(data_cleaned)\n",
        "data_normalized_df = pd.DataFrame(data_normalized, columns=data_cleaned.columns)\n",
        "print(data_normalized_df.head())"
      ],
      "metadata": {
        "colab": {
          "base_uri": "https://localhost:8080/"
        },
        "id": "b8IU7bxGoM4Y",
        "outputId": "0581a753-e9ad-4038-de77-2ec0b339a720"
      },
      "execution_count": 54,
      "outputs": [
        {
          "output_type": "stream",
          "name": "stdout",
          "text": [
            "   CustomerID    Gender       Age  Annual Income (k$)  Spending Score (1-100)\n",
            "0   -2.079376  1.128152 -1.718993           -1.989930               -0.385308\n",
            "1   -2.032923  1.128152 -1.470002           -1.989930                1.164467\n",
            "2   -1.990711 -0.886405 -1.591912           -1.930366               -1.820424\n",
            "3   -1.951397 -0.886405 -1.240020           -1.930366                1.023549\n",
            "4   -1.914247 -0.886405 -0.461118           -1.872032               -0.346103\n"
          ]
        }
      ]
    },
    {
      "cell_type": "code",
      "source": [
        "from sklearn.preprocessing import StandardScaler\n",
        "scaler = StandardScaler()\n",
        "data_scaled=scaler.fit_transform(data_normalized_df)\n",
        "data_scaled_df = pd.DataFrame(data_scaled, columns=data_cleaned.columns)\n",
        "print(data_scaled_df.head())"
      ],
      "metadata": {
        "colab": {
          "base_uri": "https://localhost:8080/"
        },
        "id": "hJVZkn2N0Bus",
        "outputId": "3a512dfd-0608-4f26-b674-34e97b722a77"
      },
      "execution_count": 55,
      "outputs": [
        {
          "output_type": "stream",
          "name": "stdout",
          "text": [
            "   CustomerID    Gender       Age  Annual Income (k$)  Spending Score (1-100)\n",
            "0   -2.079376  1.128152 -1.718993           -1.989930               -0.385308\n",
            "1   -2.032923  1.128152 -1.470002           -1.989930                1.164467\n",
            "2   -1.990711 -0.886405 -1.591912           -1.930366               -1.820424\n",
            "3   -1.951397 -0.886405 -1.240020           -1.930366                1.023549\n",
            "4   -1.914247 -0.886405 -0.461118           -1.872032               -0.346103\n"
          ]
        }
      ]
    },
    {
      "cell_type": "code",
      "source": [
        "X = data_scaled_df.loc[:, ['Annual Income (k$)', 'Spending Score (1-100)']]"
      ],
      "metadata": {
        "id": "DfC3eTIBmKU3"
      },
      "execution_count": 56,
      "outputs": []
    },
    {
      "cell_type": "code",
      "source": [
        "from sklearn.cluster import DBSCAN\n",
        "dbscan = DBSCAN(eps=0.5, min_samples=5)  # tune eps & min_samples if needed\n",
        "data_scaled_df['Cluster'] = dbscan.fit_predict(X)"
      ],
      "metadata": {
        "id": "nDE5ZveG0vJG"
      },
      "execution_count": 57,
      "outputs": []
    },
    {
      "cell_type": "code",
      "source": [
        "import matplotlib.pyplot as plt\n",
        "plt.figure(figsize=(8, 6))\n",
        "plt.scatter(X.iloc[:, 0], X.iloc[:, 1], c=data_scaled_df['Cluster'], cmap=\"rainbow\", s=50)\n",
        "plt.xlabel(\"Annual Income (scaled)\")\n",
        "plt.ylabel(\"Spending Score (scaled)\")\n",
        "plt.title(\"DBSCAN Clustering\")\n",
        "plt.grid()\n",
        "plt.show()\n",
        "\n",
        "# Check number of points in each cluster\n",
        "print(data_scaled_df['Cluster'].value_counts())"
      ],
      "metadata": {
        "colab": {
          "base_uri": "https://localhost:8080/",
          "height": 604
        },
        "id": "P3jSOc7b17Ez",
        "outputId": "f2d1ebe3-1e65-4a0a-9339-f69d25855650"
      },
      "execution_count": 58,
      "outputs": [
        {
          "output_type": "display_data",
          "data": {
            "text/plain": [
              "<Figure size 800x600 with 1 Axes>"
            ],
            "image/png": "[encoded data removed]"
          },
          "metadata": {}
        },
        {
          "output_type": "stream",
          "name": "stdout",
          "text": [
            "Cluster\n",
            " 0    182\n",
            " 1     11\n",
            "-1      7\n",
            "Name: count, dtype: int64\n"
          ]
        }
      ]
    },
    {
      "cell_type": "code",
      "source": [
        "cluster=dbscan.labels_\n",
        "cluster"
      ],
      "metadata": {
        "colab": {
          "base_uri": "https://localhost:8080/"
        },
        "id": "ottfjWOImf_S",
        "outputId": "7716a17a-658c-4741-d103-df64a89b185a"
      },
      "execution_count": 59,
      "outputs": [
        {
          "output_type": "execute_result",
          "data": {
            "text/plain": [
              "array([ 0,  0,  1,  0,  0,  0,  1,  0,  1,  0,  1, -1,  1,  0,  1,  0,  0,\n",
              "        0,  0,  0,  0,  0,  1,  0,  1,  0,  0,  0,  0,  0,  1,  0,  1,  0,\n",
              "        1,  0,  0,  0,  0,  0,  0,  0,  0,  0,  0,  0,  0,  0,  0,  0,  0,\n",
              "        0,  0,  0,  0,  0,  0,  0,  0,  0,  0,  0,  0,  0,  0,  0,  0,  0,\n",
              "        0,  0,  0,  0,  0,  0,  0,  0,  0,  0,  0,  0,  0,  0,  0,  0,  0,\n",
              "        0,  0,  0,  0,  0,  0,  0,  0,  0,  0,  0,  0,  0,  0,  0,  0,  0,\n",
              "        0,  0,  0,  0,  0,  0,  0,  0,  0,  0,  0,  0,  0,  0,  0,  0,  0,\n",
              "        0,  0,  0,  0,  0,  0,  0,  0,  0,  0,  0,  0,  0,  0,  0,  0,  0,\n",
              "        0,  0,  0,  0,  0,  0,  0,  0,  0,  0,  0,  0,  0,  0,  0,  0,  0,\n",
              "        0,  0,  0,  0,  0,  0,  0,  0,  0,  0,  0,  0,  0,  0,  0,  0,  0,\n",
              "        0,  0,  0,  0,  0,  0,  0,  0,  0,  0,  0,  0,  0,  0,  0,  0,  0,\n",
              "        0,  0,  0,  0,  0, -1,  0, -1,  0, -1, -1, -1, -1])"
            ]
          },
          "metadata": {},
          "execution_count": 59
        }
      ]
    },
    {
      "cell_type": "code",
      "source": [
        "from sklearn.metrics import silhouette_score\n",
        "\n",
        "# Example usage:\n",
        "sil_score = silhouette_score(data_scaled, cluster)\n",
        "print(\"Silhouette Score:\", sil_score)"
      ],
      "metadata": {
        "colab": {
          "base_uri": "https://localhost:8080/"
        },
        "id": "Vk9VyMBtqQlA",
        "outputId": "eacc68fe-b869-4899-81c1-dd487d867044"
      },
      "execution_count": 60,
      "outputs": [
        {
          "output_type": "stream",
          "name": "stdout",
          "text": [
            "Silhouette Score: 0.11453159482611827\n"
          ]
        }
      ]
    },
    {
      "cell_type": "code",
      "source": [],
      "metadata": {
        "id": "sTS4byydq61Q"
      },
      "execution_count": null,
      "outputs": []
    }
  ]
}