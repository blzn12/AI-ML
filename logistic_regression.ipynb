{
  "nbformat": 4,
  "nbformat_minor": 0,
  "metadata": {
    "colab": {
      "provenance": []
    },
    "kernelspec": {
      "name": "python3",
      "display_name": "Python 3"
    },
    "language_info": {
      "name": "python"
    }
  },
  "cells": [
    {
      "cell_type": "code",
      "execution_count": 122,
      "metadata": {
        "id": "MvYsBQbqoy2M",
        "colab": {
          "base_uri": "https://localhost:8080/"
        },
        "outputId": "4872e8e7-9819-4b48-a9d7-b19141c6778f"
      },
      "outputs": [
        {
          "output_type": "stream",
          "name": "stdout",
          "text": [
            "   Temperature  Humidity  Wind Speed  Precipitation (%)    Cloud Cover  \\\n",
            "0           14        73         9.5                 82  partly cloudy   \n",
            "1           39        96         8.5                 71  partly cloudy   \n",
            "2           30        64         7.0                 16          clear   \n",
            "3           38        83         1.5                 82          clear   \n",
            "4           27        74        17.0                 66       overcast   \n",
            "\n",
            "   Atmospheric Pressure  UV Index  Season  Visibility (km)  Location  \\\n",
            "0               1010.82         2  Winter              3.5    inland   \n",
            "1               1011.43         7  Spring             10.0    inland   \n",
            "2               1018.72         5  Spring              5.5  mountain   \n",
            "3               1026.25         7  Spring              1.0   coastal   \n",
            "4                990.67         1  Winter              2.5  mountain   \n",
            "\n",
            "  Weather Type  \n",
            "0        Rainy  \n",
            "1       Cloudy  \n",
            "2        Sunny  \n",
            "3        Sunny  \n",
            "4        Rainy  \n"
          ]
        }
      ],
      "source": [
        "import pandas as pd\n",
        "import numpy as np\n",
        "\n",
        "data=pd.read_csv(\"/content/weather.csv\")\n",
        "print(data.head())"
      ]
    },
    {
      "cell_type": "code",
      "source": [
        "#data information\n",
        "data.info()"
      ],
      "metadata": {
        "colab": {
          "base_uri": "https://localhost:8080/"
        },
        "id": "VpLlnvG9B3rw",
        "outputId": "1e1f8dd6-e45f-48fb-d072-ad9bfcc20e48"
      },
      "execution_count": 123,
      "outputs": [
        {
          "output_type": "stream",
          "name": "stdout",
          "text": [
            "<class 'pandas.core.frame.DataFrame'>\n",
            "RangeIndex: 13200 entries, 0 to 13199\n",
            "Data columns (total 11 columns):\n",
            " #   Column                Non-Null Count  Dtype  \n",
            "---  ------                --------------  -----  \n",
            " 0   Temperature           13200 non-null  int64  \n",
            " 1   Humidity              13200 non-null  int64  \n",
            " 2   Wind Speed            13200 non-null  float64\n",
            " 3   Precipitation (%)     13200 non-null  int64  \n",
            " 4   Cloud Cover           13200 non-null  object \n",
            " 5   Atmospheric Pressure  13200 non-null  float64\n",
            " 6   UV Index              13200 non-null  int64  \n",
            " 7   Season                13200 non-null  object \n",
            " 8   Visibility (km)       13200 non-null  float64\n",
            " 9   Location              13200 non-null  object \n",
            " 10  Weather Type          13200 non-null  object \n",
            "dtypes: float64(3), int64(4), object(4)\n",
            "memory usage: 1.1+ MB\n"
          ]
        }
      ]
    },
    {
      "cell_type": "code",
      "source": [
        "data.isnull().sum()"
      ],
      "metadata": {
        "colab": {
          "base_uri": "https://localhost:8080/",
          "height": 429
        },
        "id": "DACWilGCEA7y",
        "outputId": "f941dde8-a752-45a8-8a07-cc625f763bfd"
      },
      "execution_count": 124,
      "outputs": [
        {
          "output_type": "execute_result",
          "data": {
            "text/plain": [
              "Temperature             0\n",
              "Humidity                0\n",
              "Wind Speed              0\n",
              "Precipitation (%)       0\n",
              "Cloud Cover             0\n",
              "Atmospheric Pressure    0\n",
              "UV Index                0\n",
              "Season                  0\n",
              "Visibility (km)         0\n",
              "Location                0\n",
              "Weather Type            0\n",
              "dtype: int64"
            ],
            "text/html": [
              "<div>\n",
              "<style scoped>\n",
              "    .dataframe tbody tr th:only-of-type {\n",
              "        vertical-align: middle;\n",
              "    }\n",
              "\n",
              "    .dataframe tbody tr th {\n",
              "        vertical-align: top;\n",
              "    }\n",
              "\n",
              "    .dataframe thead th {\n",
              "        text-align: right;\n",
              "    }\n",
              "</style>\n",
              "<table border=\"1\" class=\"dataframe\">\n",
              "  <thead>\n",
              "    <tr style=\"text-align: right;\">\n",
              "      <th></th>\n",
              "      <th>0</th>\n",
              "    </tr>\n",
              "  </thead>\n",
              "  <tbody>\n",
              "    <tr>\n",
              "      <th>Temperature</th>\n",
              "      <td>0</td>\n",
              "    </tr>\n",
              "    <tr>\n",
              "      <th>Humidity</th>\n",
              "      <td>0</td>\n",
              "    </tr>\n",
              "    <tr>\n",
              "      <th>Wind Speed</th>\n",
              "      <td>0</td>\n",
              "    </tr>\n",
              "    <tr>\n",
              "      <th>Precipitation (%)</th>\n",
              "      <td>0</td>\n",
              "    </tr>\n",
              "    <tr>\n",
              "      <th>Cloud Cover</th>\n",
              "      <td>0</td>\n",
              "    </tr>\n",
              "    <tr>\n",
              "      <th>Atmospheric Pressure</th>\n",
              "      <td>0</td>\n",
              "    </tr>\n",
              "    <tr>\n",
              "      <th>UV Index</th>\n",
              "      <td>0</td>\n",
              "    </tr>\n",
              "    <tr>\n",
              "      <th>Season</th>\n",
              "      <td>0</td>\n",
              "    </tr>\n",
              "    <tr>\n",
              "      <th>Visibility (km)</th>\n",
              "      <td>0</td>\n",
              "    </tr>\n",
              "    <tr>\n",
              "      <th>Location</th>\n",
              "      <td>0</td>\n",
              "    </tr>\n",
              "    <tr>\n",
              "      <th>Weather Type</th>\n",
              "      <td>0</td>\n",
              "    </tr>\n",
              "  </tbody>\n",
              "</table>\n",
              "</div><br><label><b>dtype:</b> int64</label>"
            ]
          },
          "metadata": {},
          "execution_count": 124
        }
      ]
    },
    {
      "cell_type": "code",
      "source": [
        "#check duplication\n",
        "duplicate_rows = data[data.duplicated()]\n",
        "print(duplicate_rows)"
      ],
      "metadata": {
        "colab": {
          "base_uri": "https://localhost:8080/"
        },
        "id": "3ScnLG28qFyf",
        "outputId": "d886eaa8-97cf-4f5b-ba6c-bc53f514db49"
      },
      "execution_count": 125,
      "outputs": [
        {
          "output_type": "stream",
          "name": "stdout",
          "text": [
            "Empty DataFrame\n",
            "Columns: [Temperature, Humidity, Wind Speed, Precipitation (%), Cloud Cover, Atmospheric Pressure, UV Index, Season, Visibility (km), Location, Weather Type]\n",
            "Index: []\n"
          ]
        }
      ]
    },
    {
      "cell_type": "code",
      "source": [
        "#drop duplication\n",
        "data_cleaned = data.drop_duplicates()"
      ],
      "metadata": {
        "id": "LWnunpnSVH3c"
      },
      "execution_count": 126,
      "outputs": []
    },
    {
      "cell_type": "code",
      "source": [
        "#Remove outlayout(z_score)\n",
        "\n",
        "from scipy.stats import zscore\n",
        "\n",
        "numeric_cols = data_cleaned.select_dtypes(include=[np.number]).columns\n",
        "z_scores = zscore(data[numeric_cols])\n",
        "z_scores_df = pd.DataFrame(z_scores, columns=numeric_cols)\n",
        "outliers = (np.abs(z_scores_df) > 3).any(axis=1)\n",
        "data_cleaned = data[~outliers]\n",
        "data_cleaned.reset_index(drop=True, inplace=True)\n",
        "\n",
        "print(data_cleaned.head())\n",
        "print(\"Original shape:\", data.shape)\n",
        "print(\"Cleaned shape:\", data_cleaned.shape)"
      ],
      "metadata": {
        "colab": {
          "base_uri": "https://localhost:8080/"
        },
        "id": "y-LEoydVR9Zm",
        "outputId": "63464724-1257-41e7-dc7a-34c4d8e2fb44"
      },
      "execution_count": 127,
      "outputs": [
        {
          "output_type": "stream",
          "name": "stdout",
          "text": [
            "   Temperature  Humidity  Wind Speed  Precipitation (%)    Cloud Cover  \\\n",
            "0           14        73         9.5                 82  partly cloudy   \n",
            "1           39        96         8.5                 71  partly cloudy   \n",
            "2           30        64         7.0                 16          clear   \n",
            "3           38        83         1.5                 82          clear   \n",
            "4           27        74        17.0                 66       overcast   \n",
            "\n",
            "   Atmospheric Pressure  UV Index  Season  Visibility (km)  Location  \\\n",
            "0               1010.82         2  Winter              3.5    inland   \n",
            "1               1011.43         7  Spring             10.0    inland   \n",
            "2               1018.72         5  Spring              5.5  mountain   \n",
            "3               1026.25         7  Spring              1.0   coastal   \n",
            "4                990.67         1  Winter              2.5  mountain   \n",
            "\n",
            "  Weather Type  \n",
            "0        Rainy  \n",
            "1       Cloudy  \n",
            "2        Sunny  \n",
            "3        Sunny  \n",
            "4        Rainy  \n",
            "Original shape: (13200, 11)\n",
            "Cleaned shape: (12151, 11)\n"
          ]
        }
      ]
    },
    {
      "cell_type": "code",
      "source": [
        "from sklearn.preprocessing import LabelEncoder\n",
        "le = LabelEncoder()\n",
        "data_cleaned.loc[:, \"Cloud Cover\"] = le.fit_transform(data_cleaned[\"Cloud Cover\"])\n",
        "data_cleaned.loc[:, \"Season\"] = le.fit_transform(data_cleaned[\"Season\"])\n",
        "data_cleaned.loc[:, \"Location\"] = le.fit_transform(data_cleaned[\"Location\"])\n",
        "data_cleaned.loc[:, \"Weather Type\"] = le.fit_transform(data_cleaned[\"Weather Type\"])\n",
        "\n",
        "data_cleaned.loc[:, \"Wind Speed\"] = data_cleaned[\"Wind Speed\"].astype(int)\n",
        "data_cleaned.loc[:, \"Atmospheric Pressure\"] = data_cleaned[\"Atmospheric Pressure\"].astype(int)\n",
        "data_cleaned.loc[:, \"Visibility (km)\"] = data_cleaned[\"Visibility (km)\"].astype(int)\n",
        "\n",
        "#y_encoded = le.fit_transform(y)\n",
        "\n",
        "print(data_cleaned.head())"
      ],
      "metadata": {
        "colab": {
          "base_uri": "https://localhost:8080/"
        },
        "id": "odSvR4Q6HMA9",
        "outputId": "305a183d-72ed-4db5-d4c5-94a0c07b2375"
      },
      "execution_count": 128,
      "outputs": [
        {
          "output_type": "stream",
          "name": "stdout",
          "text": [
            "   Temperature  Humidity  Wind Speed  Precipitation (%) Cloud Cover  \\\n",
            "0           14        73         9.0                 82           3   \n",
            "1           39        96         8.0                 71           3   \n",
            "2           30        64         7.0                 16           0   \n",
            "3           38        83         1.0                 82           0   \n",
            "4           27        74        17.0                 66           2   \n",
            "\n",
            "   Atmospheric Pressure  UV Index Season  Visibility (km) Location  \\\n",
            "0                1010.0         2      3              3.0        1   \n",
            "1                1011.0         7      1             10.0        1   \n",
            "2                1018.0         5      1              5.0        2   \n",
            "3                1026.0         7      1              1.0        0   \n",
            "4                 990.0         1      3              2.0        2   \n",
            "\n",
            "  Weather Type  \n",
            "0            1  \n",
            "1            0  \n",
            "2            3  \n",
            "3            3  \n",
            "4            1  \n"
          ]
        }
      ]
    },
    {
      "cell_type": "code",
      "source": [
        "x=data_cleaned.drop(\"Weather Type\",axis=1)\n",
        "y=data_cleaned[\"Weather Type\"]\n",
        "print(x.head())\n",
        "print(y.head())"
      ],
      "metadata": {
        "colab": {
          "base_uri": "https://localhost:8080/"
        },
        "id": "CUKS1NWs-Dwd",
        "outputId": "6f3d3590-f338-494c-a476-c6cdde7590fc"
      },
      "execution_count": 129,
      "outputs": [
        {
          "output_type": "stream",
          "name": "stdout",
          "text": [
            "   Temperature  Humidity  Wind Speed  Precipitation (%) Cloud Cover  \\\n",
            "0           14        73         9.0                 82           3   \n",
            "1           39        96         8.0                 71           3   \n",
            "2           30        64         7.0                 16           0   \n",
            "3           38        83         1.0                 82           0   \n",
            "4           27        74        17.0                 66           2   \n",
            "\n",
            "   Atmospheric Pressure  UV Index Season  Visibility (km) Location  \n",
            "0                1010.0         2      3              3.0        1  \n",
            "1                1011.0         7      1             10.0        1  \n",
            "2                1018.0         5      1              5.0        2  \n",
            "3                1026.0         7      1              1.0        0  \n",
            "4                 990.0         1      3              2.0        2  \n",
            "0    1\n",
            "1    0\n",
            "2    3\n",
            "3    3\n",
            "4    1\n",
            "Name: Weather Type, dtype: object\n"
          ]
        }
      ]
    },
    {
      "cell_type": "code",
      "source": [
        "\n",
        "\n",
        "#anove\n",
        "from sklearn.feature_selection import SelectKBest, f_classif\n",
        "numeric_col_x = x.select_dtypes(include='number').columns\n",
        "\n",
        "selector = SelectKBest(score_func=f_classif, k=4)\n",
        "selector.fit(x[numeric_col_x], y)\n",
        "\n",
        "selected_cols = numeric_col_x[selector.get_support()]\n",
        "x_anova = x[selected_cols]\n",
        "\n",
        "x_anova.head()"
      ],
      "metadata": {
        "colab": {
          "base_uri": "https://localhost:8080/",
          "height": 206
        },
        "id": "TjOdsr1Gk2Fc",
        "outputId": "a87bfeab-a386-4802-d4b6-2e586f96cafa"
      },
      "execution_count": 130,
      "outputs": [
        {
          "output_type": "execute_result",
          "data": {
            "text/plain": [
              "   Temperature  Precipitation (%)  UV Index  Visibility (km)\n",
              "0           14                 82         2              3.0\n",
              "1           39                 71         7             10.0\n",
              "2           30                 16         5              5.0\n",
              "3           38                 82         7              1.0\n",
              "4           27                 66         1              2.0"
            ],
            "text/html": [
              "\n",
              "  <div id=\"df-817671e0-49e4-4c02-91c5-cf9424f4fca7\" class=\"colab-df-container\">\n",
              "    <div>\n",
              "<style scoped>\n",
              "    .dataframe tbody tr th:only-of-type {\n",
              "        vertical-align: middle;\n",
              "    }\n",
              "\n",
              "    .dataframe tbody tr th {\n",
              "        vertical-align: top;\n",
              "    }\n",
              "\n",
              "    .dataframe thead th {\n",
              "        text-align: right;\n",
              "    }\n",
              "</style>\n",
              "<table border=\"1\" class=\"dataframe\">\n",
              "  <thead>\n",
              "    <tr style=\"text-align: right;\">\n",
              "      <th></th>\n",
              "      <th>Temperature</th>\n",
              "      <th>Precipitation (%)</th>\n",
              "      <th>UV Index</th>\n",
              "      <th>Visibility (km)</th>\n",
              "    </tr>\n",
              "  </thead>\n",
              "  <tbody>\n",
              "    <tr>\n",
              "      <th>0</th>\n",
              "      <td>14</td>\n",
              "      <td>82</td>\n",
              "      <td>2</td>\n",
              "      <td>3.0</td>\n",
              "    </tr>\n",
              "    <tr>\n",
              "      <th>1</th>\n",
              "      <td>39</td>\n",
              "      <td>71</td>\n",
              "      <td>7</td>\n",
              "      <td>10.0</td>\n",
              "    </tr>\n",
              "    <tr>\n",
              "      <th>2</th>\n",
              "      <td>30</td>\n",
              "      <td>16</td>\n",
              "      <td>5</td>\n",
              "      <td>5.0</td>\n",
              "    </tr>\n",
              "    <tr>\n",
              "      <th>3</th>\n",
              "      <td>38</td>\n",
              "      <td>82</td>\n",
              "      <td>7</td>\n",
              "      <td>1.0</td>\n",
              "    </tr>\n",
              "    <tr>\n",
              "      <th>4</th>\n",
              "      <td>27</td>\n",
              "      <td>66</td>\n",
              "      <td>1</td>\n",
              "      <td>2.0</td>\n",
              "    </tr>\n",
              "  </tbody>\n",
              "</table>\n",
              "</div>\n",
              "    <div class=\"colab-df-buttons\">\n",
              "\n",
              "  <div class=\"colab-df-container\">\n",
              "    <button class=\"colab-df-convert\" onclick=\"convertToInteractive('df-817671e0-49e4-4c02-91c5-cf9424f4fca7')\"\n",
              "            title=\"Convert this dataframe to an interactive table.\"\n",
              "            style=\"display:none;\">\n",
              "\n",
              "  <svg xmlns=\"http://www.w3.org/2000/svg\" height=\"24px\" viewBox=\"0 -960 960 960\">\n",
              "    <path d=\"M120-120v-720h720v720H120Zm60-500h600v-160H180v160Zm220 220h160v-160H400v160Zm0 220h160v-160H400v160ZM180-400h160v-160H180v160Zm440 0h160v-160H620v160ZM180-180h160v-160H180v160Zm440 0h160v-160H620v160Z\"/>\n",
              "  </svg>\n",
              "    </button>\n",
              "\n",
              "  <style>\n",
              "    .colab-df-container {\n",
              "      display:flex;\n",
              "      gap: 12px;\n",
              "    }\n",
              "\n",
              "    .colab-df-convert {\n",
              "      background-color: #E8F0FE;\n",
              "      border: none;\n",
              "      border-radius: 50%;\n",
              "      cursor: pointer;\n",
              "      display: none;\n",
              "      fill: #1967D2;\n",
              "      height: 32px;\n",
              "      padding: 0 0 0 0;\n",
              "      width: 32px;\n",
              "    }\n",
              "\n",
              "    .colab-df-convert:hover {\n",
              "      background-color: #E2EBFA;\n",
              "      box-shadow: 0px 1px 2px rgba(60, 64, 67, 0.3), 0px 1px 3px 1px rgba(60, 64, 67, 0.15);\n",
              "      fill: #174EA6;\n",
              "    }\n",
              "\n",
              "    .colab-df-buttons div {\n",
              "      margin-bottom: 4px;\n",
              "    }\n",
              "\n",
              "    [theme=dark] .colab-df-convert {\n",
              "      background-color: #3B4455;\n",
              "      fill: #D2E3FC;\n",
              "    }\n",
              "\n",
              "    [theme=dark] .colab-df-convert:hover {\n",
              "      background-color: #434B5C;\n",
              "      box-shadow: 0px 1px 3px 1px rgba(0, 0, 0, 0.15);\n",
              "      filter: drop-shadow(0px 1px 2px rgba(0, 0, 0, 0.3));\n",
              "      fill: #FFFFFF;\n",
              "    }\n",
              "  </style>\n",
              "\n",
              "    <script>\n",
              "      const buttonEl =\n",
              "        document.querySelector('#df-817671e0-49e4-4c02-91c5-cf9424f4fca7 button.colab-df-convert');\n",
              "      buttonEl.style.display =\n",
              "        google.colab.kernel.accessAllowed ? 'block' : 'none';\n",
              "\n",
              "      async function convertToInteractive(key) {\n",
              "        const element = document.querySelector('#df-817671e0-49e4-4c02-91c5-cf9424f4fca7');\n",
              "        const dataTable =\n",
              "          await google.colab.kernel.invokeFunction('convertToInteractive',\n",
              "                                                    [key], {});\n",
              "        if (!dataTable) return;\n",
              "\n",
              "        const docLinkHtml = 'Like what you see? Visit the ' +\n",
              "          '<a target=\"_blank\" href=https://colab.research.google.com/notebooks/data_table.ipynb>data table notebook</a>'\n",
              "          + ' to learn more about interactive tables.';\n",
              "        element.innerHTML = '';\n",
              "        dataTable['output_type'] = 'display_data';\n",
              "        await google.colab.output.renderOutput(dataTable, element);\n",
              "        const docLink = document.createElement('div');\n",
              "        docLink.innerHTML = docLinkHtml;\n",
              "        element.appendChild(docLink);\n",
              "      }\n",
              "    </script>\n",
              "  </div>\n",
              "\n",
              "\n",
              "    <div id=\"df-f8a539ba-3857-4527-97b2-48dcae074611\">\n",
              "      <button class=\"colab-df-quickchart\" onclick=\"quickchart('df-f8a539ba-3857-4527-97b2-48dcae074611')\"\n",
              "                title=\"Suggest charts\"\n",
              "                style=\"display:none;\">\n",
              "\n",
              "<svg xmlns=\"http://www.w3.org/2000/svg\" height=\"24px\"viewBox=\"0 0 24 24\"\n",
              "     width=\"24px\">\n",
              "    <g>\n",
              "        <path d=\"M19 3H5c-1.1 0-2 .9-2 2v14c0 1.1.9 2 2 2h14c1.1 0 2-.9 2-2V5c0-1.1-.9-2-2-2zM9 17H7v-7h2v7zm4 0h-2V7h2v10zm4 0h-2v-4h2v4z\"/>\n",
              "    </g>\n",
              "</svg>\n",
              "      </button>\n",
              "\n",
              "<style>\n",
              "  .colab-df-quickchart {\n",
              "      --bg-color: #E8F0FE;\n",
              "      --fill-color: #1967D2;\n",
              "      --hover-bg-color: #E2EBFA;\n",
              "      --hover-fill-color: #174EA6;\n",
              "      --disabled-fill-color: #AAA;\n",
              "      --disabled-bg-color: #DDD;\n",
              "  }\n",
              "\n",
              "  [theme=dark] .colab-df-quickchart {\n",
              "      --bg-color: #3B4455;\n",
              "      --fill-color: #D2E3FC;\n",
              "      --hover-bg-color: #434B5C;\n",
              "      --hover-fill-color: #FFFFFF;\n",
              "      --disabled-bg-color: #3B4455;\n",
              "      --disabled-fill-color: #666;\n",
              "  }\n",
              "\n",
              "  .colab-df-quickchart {\n",
              "    background-color: var(--bg-color);\n",
              "    border: none;\n",
              "    border-radius: 50%;\n",
              "    cursor: pointer;\n",
              "    display: none;\n",
              "    fill: var(--fill-color);\n",
              "    height: 32px;\n",
              "    padding: 0;\n",
              "    width: 32px;\n",
              "  }\n",
              "\n",
              "  .colab-df-quickchart:hover {\n",
              "    background-color: var(--hover-bg-color);\n",
              "    box-shadow: 0 1px 2px rgba(60, 64, 67, 0.3), 0 1px 3px 1px rgba(60, 64, 67, 0.15);\n",
              "    fill: var(--button-hover-fill-color);\n",
              "  }\n",
              "\n",
              "  .colab-df-quickchart-complete:disabled,\n",
              "  .colab-df-quickchart-complete:disabled:hover {\n",
              "    background-color: var(--disabled-bg-color);\n",
              "    fill: var(--disabled-fill-color);\n",
              "    box-shadow: none;\n",
              "  }\n",
              "\n",
              "  .colab-df-spinner {\n",
              "    border: 2px solid var(--fill-color);\n",
              "    border-color: transparent;\n",
              "    border-bottom-color: var(--fill-color);\n",
              "    animation:\n",
              "      spin 1s steps(1) infinite;\n",
              "  }\n",
              "\n",
              "  @keyframes spin {\n",
              "    0% {\n",
              "      border-color: transparent;\n",
              "      border-bottom-color: var(--fill-color);\n",
              "      border-left-color: var(--fill-color);\n",
              "    }\n",
              "    20% {\n",
              "      border-color: transparent;\n",
              "      border-left-color: var(--fill-color);\n",
              "      border-top-color: var(--fill-color);\n",
              "    }\n",
              "    30% {\n",
              "      border-color: transparent;\n",
              "      border-left-color: var(--fill-color);\n",
              "      border-top-color: var(--fill-color);\n",
              "      border-right-color: var(--fill-color);\n",
              "    }\n",
              "    40% {\n",
              "      border-color: transparent;\n",
              "      border-right-color: var(--fill-color);\n",
              "      border-top-color: var(--fill-color);\n",
              "    }\n",
              "    60% {\n",
              "      border-color: transparent;\n",
              "      border-right-color: var(--fill-color);\n",
              "    }\n",
              "    80% {\n",
              "      border-color: transparent;\n",
              "      border-right-color: var(--fill-color);\n",
              "      border-bottom-color: var(--fill-color);\n",
              "    }\n",
              "    90% {\n",
              "      border-color: transparent;\n",
              "      border-bottom-color: var(--fill-color);\n",
              "    }\n",
              "  }\n",
              "</style>\n",
              "\n",
              "      <script>\n",
              "        async function quickchart(key) {\n",
              "          const quickchartButtonEl =\n",
              "            document.querySelector('#' + key + ' button');\n",
              "          quickchartButtonEl.disabled = true;  // To prevent multiple clicks.\n",
              "          quickchartButtonEl.classList.add('colab-df-spinner');\n",
              "          try {\n",
              "            const charts = await google.colab.kernel.invokeFunction(\n",
              "                'suggestCharts', [key], {});\n",
              "          } catch (error) {\n",
              "            console.error('Error during call to suggestCharts:', error);\n",
              "          }\n",
              "          quickchartButtonEl.classList.remove('colab-df-spinner');\n",
              "          quickchartButtonEl.classList.add('colab-df-quickchart-complete');\n",
              "        }\n",
              "        (() => {\n",
              "          let quickchartButtonEl =\n",
              "            document.querySelector('#df-f8a539ba-3857-4527-97b2-48dcae074611 button');\n",
              "          quickchartButtonEl.style.display =\n",
              "            google.colab.kernel.accessAllowed ? 'block' : 'none';\n",
              "        })();\n",
              "      </script>\n",
              "    </div>\n",
              "\n",
              "    </div>\n",
              "  </div>\n"
            ],
            "application/vnd.google.colaboratory.intrinsic+json": {
              "type": "dataframe",
              "variable_name": "x_anova",
              "summary": "{\n  \"name\": \"x_anova\",\n  \"rows\": 12151,\n  \"fields\": [\n    {\n      \"column\": \"Temperature\",\n      \"properties\": {\n        \"dtype\": \"number\",\n        \"std\": 16,\n        \"min\": -25,\n        \"max\": 71,\n        \"num_unique_values\": 97,\n        \"samples\": [\n          47,\n          23,\n          50\n        ],\n        \"semantic_type\": \"\",\n        \"description\": \"\"\n      }\n    },\n    {\n      \"column\": \"Precipitation (%)\",\n      \"properties\": {\n        \"dtype\": \"number\",\n        \"std\": 32,\n        \"min\": 0,\n        \"max\": 109,\n        \"num_unique_values\": 110,\n        \"samples\": [\n          35,\n          8,\n          26\n        ],\n        \"semantic_type\": \"\",\n        \"description\": \"\"\n      }\n    },\n    {\n      \"column\": \"UV Index\",\n      \"properties\": {\n        \"dtype\": \"number\",\n        \"std\": 3,\n        \"min\": 0,\n        \"max\": 14,\n        \"num_unique_values\": 15,\n        \"samples\": [\n          4,\n          10,\n          2\n        ],\n        \"semantic_type\": \"\",\n        \"description\": \"\"\n      }\n    },\n    {\n      \"column\": \"Visibility (km)\",\n      \"properties\": {\n        \"dtype\": \"number\",\n        \"std\": 2.737604456350374,\n        \"min\": 0.0,\n        \"max\": 15.0,\n        \"num_unique_values\": 16,\n        \"samples\": [\n          3.0,\n          10.0,\n          4.0\n        ],\n        \"semantic_type\": \"\",\n        \"description\": \"\"\n      }\n    }\n  ]\n}"
            }
          },
          "metadata": {},
          "execution_count": 130
        }
      ]
    },
    {
      "cell_type": "code",
      "source": [
        "#chi_square\n",
        "from sklearn.feature_selection import SelectKBest, chi2\n",
        "from sklearn.preprocessing import LabelEncoder\n",
        "import pandas as pd\n",
        "\n",
        "x = data.drop(\"Weather Type\", axis=1)\n",
        "y = data[\"Weather Type\"]\n",
        "\n",
        "label_encoder = LabelEncoder()\n",
        "y_encoded = label_encoder.fit_transform(y)\n",
        "\n",
        "categorical_cols = x.select_dtypes(include=\"number\").columns\n",
        "x_categorical = x[categorical_cols]\n",
        "x_categorical_clipped = x_categorical.clip(lower=0)\n",
        "\n",
        "selector = SelectKBest(score_func=chi2, k=4)\n",
        "selector.fit(x_categorical_clipped, y_encoded)\n",
        "\n",
        "selected_cols = categorical_cols[selector.get_support()]\n",
        "x_chi2 = x[selected_cols]\n",
        "\n",
        "print(x_chi2.head())\n",
        "# Convert y_encoded to a pandas Series before calling head()\n",
        "print('y:', pd.Series(y_encoded).head())"
      ],
      "metadata": {
        "colab": {
          "base_uri": "https://localhost:8080/"
        },
        "id": "O_lGK6NwlC5O",
        "outputId": "4d2de86c-d839-4685-e056-880f70d13d5f"
      },
      "execution_count": 131,
      "outputs": [
        {
          "output_type": "stream",
          "name": "stdout",
          "text": [
            "   Temperature  Humidity  Precipitation (%)  UV Index\n",
            "0           14        73                 82         2\n",
            "1           39        96                 71         7\n",
            "2           30        64                 16         5\n",
            "3           38        83                 82         7\n",
            "4           27        74                 66         1\n",
            "y: 0    1\n",
            "1    0\n",
            "2    3\n",
            "3    3\n",
            "4    1\n",
            "dtype: int64\n"
          ]
        }
      ]
    },
    {
      "cell_type": "code",
      "source": [
        "#create new column withh chi2 and anova\n",
        "x_final = pd.concat([x_anova, x_chi2], axis=1)\n",
        "x_final = x_final.loc[:, ~x_final.columns.duplicated()]\n",
        "print(x_final.head())"
      ],
      "metadata": {
        "colab": {
          "base_uri": "https://localhost:8080/"
        },
        "id": "XOmZdMG3mNc2",
        "outputId": "76782314-ce7f-4278-c0fd-010ce63fa521"
      },
      "execution_count": 132,
      "outputs": [
        {
          "output_type": "stream",
          "name": "stdout",
          "text": [
            "   Temperature  Precipitation (%)  UV Index  Visibility (km)  Humidity\n",
            "0         14.0               82.0       2.0              3.0        73\n",
            "1         39.0               71.0       7.0             10.0        96\n",
            "2         30.0               16.0       5.0              5.0        64\n",
            "3         38.0               82.0       7.0              1.0        83\n",
            "4         27.0               66.0       1.0              2.0        74\n"
          ]
        }
      ]
    },
    {
      "cell_type": "code",
      "source": [
        "x_final.columns"
      ],
      "metadata": {
        "colab": {
          "base_uri": "https://localhost:8080/"
        },
        "id": "m_LSLcpYnvXI",
        "outputId": "de53c583-2af0-4597-d890-85f42835e41c"
      },
      "execution_count": 133,
      "outputs": [
        {
          "output_type": "execute_result",
          "data": {
            "text/plain": [
              "Index(['Temperature', 'Precipitation (%)', 'UV Index', 'Visibility (km)',\n",
              "       'Humidity'],\n",
              "      dtype='object')"
            ]
          },
          "metadata": {},
          "execution_count": 133
        }
      ]
    },
    {
      "cell_type": "code",
      "source": [
        "#skew normalization\n",
        "\n",
        "from sklearn.preprocessing import PowerTransformer\n",
        "\n",
        "pt = PowerTransformer()\n",
        "cols = ['Temperature', 'Precipitation (%)', 'UV Index', 'Visibility (km)','Humidity']\n",
        "x_final[cols] = pt.fit_transform(x_final[cols])\n",
        "skew_values = x_final[cols].skew()\n",
        "\n",
        "print(skew_values)\n",
        "print(x_final.head())\n"
      ],
      "metadata": {
        "colab": {
          "base_uri": "https://localhost:8080/"
        },
        "id": "a03lDt5BGPez",
        "outputId": "7e0072da-53e1-437e-b293-9d3d65f26b62"
      },
      "execution_count": 134,
      "outputs": [
        {
          "output_type": "stream",
          "name": "stdout",
          "text": [
            "Temperature         -0.242064\n",
            "Precipitation (%)   -0.339881\n",
            "UV Index             0.001928\n",
            "Visibility (km)     -0.068493\n",
            "Humidity            -0.117439\n",
            "dtype: float64\n",
            "   Temperature  Precipitation (%)  UV Index  Visibility (km)  Humidity\n",
            "0    -0.268215           0.901354 -0.173423        -0.619193  0.159273\n",
            "1     1.204739           0.615011  1.028920         1.652357  1.433830\n",
            "2     0.681969          -1.118828  0.677054         0.156605 -0.300035\n",
            "3     1.146963           0.901354  1.028920        -1.630853  0.696471\n",
            "4     0.506149           0.480641 -0.672682        -1.081845  0.211755\n"
          ]
        }
      ]
    },
    {
      "cell_type": "code",
      "source": [
        "#scalling\n",
        "from sklearn.preprocessing import MinMaxScaler\n",
        "scaler=MinMaxScaler()\n",
        "\n",
        "# Select only numeric columns for scaling\n",
        "numeric_cols = x_final.select_dtypes(include=np.number).columns\n",
        "scaled_data = scaler.fit_transform(data_cleaned[numeric_cols])\n",
        "\n",
        "scaled_data=pd.DataFrame(scaled_data,columns=numeric_cols)\n",
        "print(scaled_data.head())"
      ],
      "metadata": {
        "colab": {
          "base_uri": "https://localhost:8080/"
        },
        "id": "S7ZmgaHGqlMP",
        "outputId": "139d51d0-4da1-49d4-c741-1608ad9ecf63"
      },
      "execution_count": 135,
      "outputs": [
        {
          "output_type": "stream",
          "name": "stdout",
          "text": [
            "   Temperature  Precipitation (%)  UV Index  Visibility (km)  Humidity\n",
            "0     0.406250           0.752294  0.142857         0.200000  0.595506\n",
            "1     0.666667           0.651376  0.500000         0.666667  0.853933\n",
            "2     0.572917           0.146789  0.357143         0.333333  0.494382\n",
            "3     0.656250           0.752294  0.500000         0.066667  0.707865\n",
            "4     0.541667           0.605505  0.071429         0.133333  0.606742\n"
          ]
        }
      ]
    },
    {
      "cell_type": "code",
      "source": [
        "#i have joined x_final and y\n",
        "from sklearn.preprocessing import LabelEncoder\n",
        "\n",
        "le = LabelEncoder()\n",
        "le.fit(data_cleaned[\"Weather Type\"])\n",
        "y = le.transform(data_cleaned[\"Weather Type\"])\n",
        "y = pd.Series(y, name=\"Weather Type\")  # convert to Series so you can use .head()\n",
        "\n",
        "print(y.head())\n",
        "\n",
        "new_data = pd.concat([scaled_data, y], axis=1)\n",
        "print(new_data.head())\n",
        "print(new_data.shape)\n"
      ],
      "metadata": {
        "colab": {
          "base_uri": "https://localhost:8080/"
        },
        "id": "1MMvuSBW0NOY",
        "outputId": "54825397-4b6b-44b6-e371-f964bba0c868"
      },
      "execution_count": 136,
      "outputs": [
        {
          "output_type": "stream",
          "name": "stdout",
          "text": [
            "0    1\n",
            "1    0\n",
            "2    3\n",
            "3    3\n",
            "4    1\n",
            "Name: Weather Type, dtype: int64\n",
            "   Temperature  Precipitation (%)  UV Index  Visibility (km)  Humidity  \\\n",
            "0     0.406250           0.752294  0.142857         0.200000  0.595506   \n",
            "1     0.666667           0.651376  0.500000         0.666667  0.853933   \n",
            "2     0.572917           0.146789  0.357143         0.333333  0.494382   \n",
            "3     0.656250           0.752294  0.500000         0.066667  0.707865   \n",
            "4     0.541667           0.605505  0.071429         0.133333  0.606742   \n",
            "\n",
            "   Weather Type  \n",
            "0             1  \n",
            "1             0  \n",
            "2             3  \n",
            "3             3  \n",
            "4             1  \n",
            "(12151, 6)\n"
          ]
        }
      ]
    },
    {
      "cell_type": "code",
      "source": [
        "#outliat_using_zscore\n",
        "from scipy.stats import zscore\n",
        "numeric_cols = new_data.select_dtypes(include=[np.number]).drop('Weather Type', axis=1).columns\n",
        "z_scores = zscore(new_data[numeric_cols])\n",
        "z_scores_df = pd.DataFrame(z_scores, columns=numeric_cols)\n",
        "outliers = (np.abs(z_scores_df) > 3).any(axis=1)\n",
        "new_data = new_data[~outliers].reset_index(drop=True)\n",
        "\n",
        "print(\"new_data shape after Z-score outlier removal:\", new_data.shape)\n",
        "\n",
        "print(new_data.head())\n"
      ],
      "metadata": {
        "colab": {
          "base_uri": "https://localhost:8080/"
        },
        "id": "6AHPPol0XM2W",
        "outputId": "bc00fb83-74f5-40f3-b1ae-a77985b729be"
      },
      "execution_count": 137,
      "outputs": [
        {
          "output_type": "stream",
          "name": "stdout",
          "text": [
            "new_data shape after Z-score outlier removal: (12061, 6)\n",
            "   Temperature  Precipitation (%)  UV Index  Visibility (km)  Humidity  \\\n",
            "0     0.406250           0.752294  0.142857         0.200000  0.595506   \n",
            "1     0.666667           0.651376  0.500000         0.666667  0.853933   \n",
            "2     0.572917           0.146789  0.357143         0.333333  0.494382   \n",
            "3     0.656250           0.752294  0.500000         0.066667  0.707865   \n",
            "4     0.541667           0.605505  0.071429         0.133333  0.606742   \n",
            "\n",
            "   Weather Type  \n",
            "0             1  \n",
            "1             0  \n",
            "2             3  \n",
            "3             3  \n",
            "4             1  \n"
          ]
        }
      ]
    },
    {
      "cell_type": "code",
      "source": [
        "from sklearn.model_selection import train_test_split\n",
        "\n",
        "# Splitting features and target\n",
        "x_new_1 = new_data.drop(\"Weather Type\", axis=1)\n",
        "y_new_1 = new_data[\"Weather Type\"]\n",
        "\n",
        "# Split the data\n",
        "x_train, x_test, y_train, y_test = train_test_split(x_new_1, y_new_1, test_size=0.2, random_state=42)\n",
        "\n",
        "# Display results\n",
        "print(x_train.head())\n",
        "print(y_train.head())"
      ],
      "metadata": {
        "colab": {
          "base_uri": "https://localhost:8080/"
        },
        "id": "EMphsRniz4x3",
        "outputId": "d2a93fc6-c89a-4d46-e9eb-9338217b2e3d"
      },
      "execution_count": 138,
      "outputs": [
        {
          "output_type": "stream",
          "name": "stdout",
          "text": [
            "       Temperature  Precipitation (%)  UV Index  Visibility (km)  Humidity\n",
            "3288      0.541667           0.091743  0.428571         0.600000  0.393258\n",
            "9736      0.218750           0.743119  0.000000         0.066667  0.685393\n",
            "6208      0.562500           0.073394  0.714286         0.600000  0.415730\n",
            "10096     0.260417           0.715596  0.071429         0.200000  0.584270\n",
            "10        0.656250           0.146789  0.785714         0.466667  0.258427\n",
            "3288     3\n",
            "9736     2\n",
            "6208     3\n",
            "10096    2\n",
            "10       3\n",
            "Name: Weather Type, dtype: int64\n"
          ]
        }
      ]
    },
    {
      "cell_type": "code",
      "source": [
        "print(x_new_1.isnull().sum())"
      ],
      "metadata": {
        "colab": {
          "base_uri": "https://localhost:8080/"
        },
        "id": "30thFjgClRQY",
        "outputId": "f3ad64c0-9cac-4a56-8517-c0342f40b0e1"
      },
      "execution_count": 139,
      "outputs": [
        {
          "output_type": "stream",
          "name": "stdout",
          "text": [
            "Temperature          0\n",
            "Precipitation (%)    0\n",
            "UV Index             0\n",
            "Visibility (km)      0\n",
            "Humidity             0\n",
            "dtype: int64\n"
          ]
        }
      ]
    },
    {
      "cell_type": "code",
      "source": [
        "print(x_train.columns)\n",
        "print(data.head(3))"
      ],
      "metadata": {
        "colab": {
          "base_uri": "https://localhost:8080/"
        },
        "id": "Ct5wsTTB5jBd",
        "outputId": "9130f5b1-08dc-4f98-e310-536437a20e44"
      },
      "execution_count": 146,
      "outputs": [
        {
          "output_type": "stream",
          "name": "stdout",
          "text": [
            "Index(['Temperature', 'Precipitation (%)', 'UV Index', 'Visibility (km)',\n",
            "       'Humidity'],\n",
            "      dtype='object')\n",
            "   Temperature  Humidity  Wind Speed  Precipitation (%)    Cloud Cover  \\\n",
            "0           14        73         9.5                 82  partly cloudy   \n",
            "1           39        96         8.5                 71  partly cloudy   \n",
            "2           30        64         7.0                 16          clear   \n",
            "\n",
            "   Atmospheric Pressure  UV Index  Season  Visibility (km)  Location  \\\n",
            "0               1010.82         2  Winter              3.5    inland   \n",
            "1               1011.43         7  Spring             10.0    inland   \n",
            "2               1018.72         5  Spring              5.5  mountain   \n",
            "\n",
            "  Weather Type  \n",
            "0        Rainy  \n",
            "1       Cloudy  \n",
            "2        Sunny  \n"
          ]
        }
      ]
    },
    {
      "cell_type": "code",
      "source": [
        "from sklearn.linear_model import LogisticRegression\n",
        "\n",
        "model = LogisticRegression()\n",
        "model.fit(x_train, y_train)\n",
        "predicted = model.predict(x_train)"
      ],
      "metadata": {
        "id": "IDP99KZ2fu_D"
      },
      "execution_count": 142,
      "outputs": []
    },
    {
      "cell_type": "code",
      "source": [
        "zn=model.predict([[26,76,6,7.8,72]])\n",
        "print('The Prediction is: ',zn)"
      ],
      "metadata": {
        "colab": {
          "base_uri": "https://localhost:8080/"
        },
        "id": "3GeNDnJKjbao",
        "outputId": "81560be2-1168-4aff-c015-b6f8a5bbe57e"
      },
      "execution_count": 147,
      "outputs": [
        {
          "output_type": "stream",
          "name": "stdout",
          "text": [
            "The Prediction is:  [1]\n"
          ]
        },
        {
          "output_type": "stream",
          "name": "stderr",
          "text": [
            "/usr/local/lib/python3.11/dist-packages/sklearn/utils/validation.py:2739: UserWarning: X does not have valid feature names, but LogisticRegression was fitted with feature names\n",
            "  warnings.warn(\n"
          ]
        }
      ]
    },
    {
      "cell_type": "code",
      "source": [
        "from sklearn.metrics import top_k_accuracy_score, accuracy_score\n",
        "print(accuracy_score(y_train,predicted))"
      ],
      "metadata": {
        "colab": {
          "base_uri": "https://localhost:8080/"
        },
        "id": "xsKjZRH96b4-",
        "outputId": "d1d4c405-26cf-47dd-fe9e-3d02fdfb56ea"
      },
      "execution_count": 149,
      "outputs": [
        {
          "output_type": "stream",
          "name": "stdout",
          "text": [
            "0.9134535655058044\n"
          ]
        }
      ]
    },
    {
      "cell_type": "code",
      "source": [],
      "metadata": {
        "id": "oqNipn3I6tLd"
      },
      "execution_count": null,
      "outputs": []
    }
  ]
}