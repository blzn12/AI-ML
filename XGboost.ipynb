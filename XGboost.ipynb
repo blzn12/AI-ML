{
  "nbformat": 4,
  "nbformat_minor": 0,
  "metadata": {
    "colab": {
      "provenance": []
    },
    "kernelspec": {
      "name": "python3",
      "display_name": "Python 3"
    },
    "language_info": {
      "name": "python"
    }
  },
  "cells": [
    {
      "cell_type": "code",
      "execution_count": 55,
      "metadata": {
        "colab": {
          "base_uri": "https://localhost:8080/"
        },
        "id": "fzGoxI0s4gbY",
        "outputId": "4c6982da-1f2f-4cf6-a3f6-b78bc01db394"
      },
      "outputs": [
        {
          "output_type": "stream",
          "name": "stdout",
          "text": [
            "         id diagnosis  radius_mean  texture_mean  perimeter_mean  area_mean  \\\n",
            "0    842302         M        17.99         10.38          122.80     1001.0   \n",
            "1    842517         M        20.57         17.77          132.90     1326.0   \n",
            "2  84300903         M        19.69         21.25          130.00     1203.0   \n",
            "3  84348301         M        11.42         20.38           77.58      386.1   \n",
            "4  84358402         M        20.29         14.34          135.10     1297.0   \n",
            "\n",
            "   smoothness_mean  compactness_mean  concavity_mean  concave points_mean  \\\n",
            "0          0.11840           0.27760          0.3001              0.14710   \n",
            "1          0.08474           0.07864          0.0869              0.07017   \n",
            "2          0.10960           0.15990          0.1974              0.12790   \n",
            "3          0.14250           0.28390          0.2414              0.10520   \n",
            "4          0.10030           0.13280          0.1980              0.10430   \n",
            "\n",
            "   ...  radius_worst  texture_worst  perimeter_worst  area_worst  \\\n",
            "0  ...         25.38          17.33           184.60      2019.0   \n",
            "1  ...         24.99          23.41           158.80      1956.0   \n",
            "2  ...         23.57          25.53           152.50      1709.0   \n",
            "3  ...         14.91          26.50            98.87       567.7   \n",
            "4  ...         22.54          16.67           152.20      1575.0   \n",
            "\n",
            "   smoothness_worst  compactness_worst  concavity_worst  concave points_worst  \\\n",
            "0            0.1622             0.6656           0.7119                0.2654   \n",
            "1            0.1238             0.1866           0.2416                0.1860   \n",
            "2            0.1444             0.4245           0.4504                0.2430   \n",
            "3            0.2098             0.8663           0.6869                0.2575   \n",
            "4            0.1374             0.2050           0.4000                0.1625   \n",
            "\n",
            "   symmetry_worst  fractal_dimension_worst  \n",
            "0          0.4601                  0.11890  \n",
            "1          0.2750                  0.08902  \n",
            "2          0.3613                  0.08758  \n",
            "3          0.6638                  0.17300  \n",
            "4          0.2364                  0.07678  \n",
            "\n",
            "[5 rows x 32 columns]\n"
          ]
        }
      ],
      "source": [
        "import pandas as pd\n",
        "import numpy as np\n",
        "data=pd.read_csv(\"/content/cancer_data.csv\")\n",
        "print(data.head())"
      ]
    },
    {
      "cell_type": "code",
      "source": [
        "data.info()"
      ],
      "metadata": {
        "colab": {
          "base_uri": "https://localhost:8080/"
        },
        "id": "5Cv_9GI56_Hx",
        "outputId": "4694d32f-f2df-489a-cdfb-7e582cd0d16d"
      },
      "execution_count": 56,
      "outputs": [
        {
          "output_type": "stream",
          "name": "stdout",
          "text": [
            "<class 'pandas.core.frame.DataFrame'>\n",
            "RangeIndex: 569 entries, 0 to 568\n",
            "Data columns (total 32 columns):\n",
            " #   Column                   Non-Null Count  Dtype  \n",
            "---  ------                   --------------  -----  \n",
            " 0   id                       569 non-null    int64  \n",
            " 1   diagnosis                569 non-null    object \n",
            " 2   radius_mean              569 non-null    float64\n",
            " 3   texture_mean             569 non-null    float64\n",
            " 4   perimeter_mean           569 non-null    float64\n",
            " 5   area_mean                569 non-null    float64\n",
            " 6   smoothness_mean          569 non-null    float64\n",
            " 7   compactness_mean         569 non-null    float64\n",
            " 8   concavity_mean           569 non-null    float64\n",
            " 9   concave points_mean      569 non-null    float64\n",
            " 10  symmetry_mean            569 non-null    float64\n",
            " 11  fractal_dimension_mean   569 non-null    float64\n",
            " 12  radius_se                569 non-null    float64\n",
            " 13  texture_se               569 non-null    float64\n",
            " 14  perimeter_se             569 non-null    float64\n",
            " 15  area_se                  569 non-null    float64\n",
            " 16  smoothness_se            569 non-null    float64\n",
            " 17  compactness_se           569 non-null    float64\n",
            " 18  concavity_se             569 non-null    float64\n",
            " 19  concave points_se        569 non-null    float64\n",
            " 20  symmetry_se              569 non-null    float64\n",
            " 21  fractal_dimension_se     569 non-null    float64\n",
            " 22  radius_worst             569 non-null    float64\n",
            " 23  texture_worst            569 non-null    float64\n",
            " 24  perimeter_worst          569 non-null    float64\n",
            " 25  area_worst               569 non-null    float64\n",
            " 26  smoothness_worst         569 non-null    float64\n",
            " 27  compactness_worst        569 non-null    float64\n",
            " 28  concavity_worst          569 non-null    float64\n",
            " 29  concave points_worst     569 non-null    float64\n",
            " 30  symmetry_worst           569 non-null    float64\n",
            " 31  fractal_dimension_worst  569 non-null    float64\n",
            "dtypes: float64(30), int64(1), object(1)\n",
            "memory usage: 142.4+ KB\n"
          ]
        }
      ]
    },
    {
      "cell_type": "code",
      "source": [
        "#duplication\n",
        "duplicate_rows=data[data.duplicated()]\n",
        "print(duplicate_rows)\n",
        "data_cleaned=data.drop_duplicates()\n",
        "print(data_cleaned.head() )"
      ],
      "metadata": {
        "colab": {
          "base_uri": "https://localhost:8080/"
        },
        "id": "x_hIpxVQ7Lco",
        "outputId": "a5d8793b-a179-4436-9262-0e59ee8ea4f2"
      },
      "execution_count": 57,
      "outputs": [
        {
          "output_type": "stream",
          "name": "stdout",
          "text": [
            "Empty DataFrame\n",
            "Columns: [id, diagnosis, radius_mean, texture_mean, perimeter_mean, area_mean, smoothness_mean, compactness_mean, concavity_mean, concave points_mean, symmetry_mean, fractal_dimension_mean, radius_se, texture_se, perimeter_se, area_se, smoothness_se, compactness_se, concavity_se, concave points_se, symmetry_se, fractal_dimension_se, radius_worst, texture_worst, perimeter_worst, area_worst, smoothness_worst, compactness_worst, concavity_worst, concave points_worst, symmetry_worst, fractal_dimension_worst]\n",
            "Index: []\n",
            "\n",
            "[0 rows x 32 columns]\n",
            "         id diagnosis  radius_mean  texture_mean  perimeter_mean  area_mean  \\\n",
            "0    842302         M        17.99         10.38          122.80     1001.0   \n",
            "1    842517         M        20.57         17.77          132.90     1326.0   \n",
            "2  84300903         M        19.69         21.25          130.00     1203.0   \n",
            "3  84348301         M        11.42         20.38           77.58      386.1   \n",
            "4  84358402         M        20.29         14.34          135.10     1297.0   \n",
            "\n",
            "   smoothness_mean  compactness_mean  concavity_mean  concave points_mean  \\\n",
            "0          0.11840           0.27760          0.3001              0.14710   \n",
            "1          0.08474           0.07864          0.0869              0.07017   \n",
            "2          0.10960           0.15990          0.1974              0.12790   \n",
            "3          0.14250           0.28390          0.2414              0.10520   \n",
            "4          0.10030           0.13280          0.1980              0.10430   \n",
            "\n",
            "   ...  radius_worst  texture_worst  perimeter_worst  area_worst  \\\n",
            "0  ...         25.38          17.33           184.60      2019.0   \n",
            "1  ...         24.99          23.41           158.80      1956.0   \n",
            "2  ...         23.57          25.53           152.50      1709.0   \n",
            "3  ...         14.91          26.50            98.87       567.7   \n",
            "4  ...         22.54          16.67           152.20      1575.0   \n",
            "\n",
            "   smoothness_worst  compactness_worst  concavity_worst  concave points_worst  \\\n",
            "0            0.1622             0.6656           0.7119                0.2654   \n",
            "1            0.1238             0.1866           0.2416                0.1860   \n",
            "2            0.1444             0.4245           0.4504                0.2430   \n",
            "3            0.2098             0.8663           0.6869                0.2575   \n",
            "4            0.1374             0.2050           0.4000                0.1625   \n",
            "\n",
            "   symmetry_worst  fractal_dimension_worst  \n",
            "0          0.4601                  0.11890  \n",
            "1          0.2750                  0.08902  \n",
            "2          0.3613                  0.08758  \n",
            "3          0.6638                  0.17300  \n",
            "4          0.2364                  0.07678  \n",
            "\n",
            "[5 rows x 32 columns]\n"
          ]
        }
      ]
    },
    {
      "cell_type": "code",
      "source": [
        "#remove outlayers(z_score)\n",
        "from scipy.stats import zscore\n",
        "numeric_cols=data_cleaned.select_dtypes(include=[np.number]).columns\n",
        "z_score=zscore(data[numeric_cols])\n",
        "z_score_df=pd.DataFrame(z_score,columns=numeric_cols)\n",
        "outliers=(np.abs(z_score_df)>3).any(axis=1)\n",
        "data_cleaned=data[~outliers]\n",
        "data_cleaned.reset_index(drop=True,inplace=True)\n",
        "\n",
        "print(data_cleaned.head())\n",
        "print(\"Original shape:\",data.shape)\n",
        "print(\"Cleaned shape:\",data_cleaned.shape)"
      ],
      "metadata": {
        "colab": {
          "base_uri": "https://localhost:8080/"
        },
        "id": "ML5aVthZEqo3",
        "outputId": "0195bb50-76c5-413d-80fc-5b1ca259986c"
      },
      "execution_count": 58,
      "outputs": [
        {
          "output_type": "stream",
          "name": "stdout",
          "text": [
            "         id diagnosis  radius_mean  texture_mean  perimeter_mean  area_mean  \\\n",
            "0    842517         M        20.57         17.77          132.90     1326.0   \n",
            "1  84300903         M        19.69         21.25          130.00     1203.0   \n",
            "2  84358402         M        20.29         14.34          135.10     1297.0   \n",
            "3    843786         M        12.45         15.70           82.57      477.1   \n",
            "4    844359         M        18.25         19.98          119.60     1040.0   \n",
            "\n",
            "   smoothness_mean  compactness_mean  concavity_mean  concave points_mean  \\\n",
            "0          0.08474           0.07864          0.0869              0.07017   \n",
            "1          0.10960           0.15990          0.1974              0.12790   \n",
            "2          0.10030           0.13280          0.1980              0.10430   \n",
            "3          0.12780           0.17000          0.1578              0.08089   \n",
            "4          0.09463           0.10900          0.1127              0.07400   \n",
            "\n",
            "   ...  radius_worst  texture_worst  perimeter_worst  area_worst  \\\n",
            "0  ...         24.99          23.41            158.8      1956.0   \n",
            "1  ...         23.57          25.53            152.5      1709.0   \n",
            "2  ...         22.54          16.67            152.2      1575.0   \n",
            "3  ...         15.47          23.75            103.4       741.6   \n",
            "4  ...         22.88          27.66            153.2      1606.0   \n",
            "\n",
            "   smoothness_worst  compactness_worst  concavity_worst  concave points_worst  \\\n",
            "0            0.1238             0.1866           0.2416                0.1860   \n",
            "1            0.1444             0.4245           0.4504                0.2430   \n",
            "2            0.1374             0.2050           0.4000                0.1625   \n",
            "3            0.1791             0.5249           0.5355                0.1741   \n",
            "4            0.1442             0.2576           0.3784                0.1932   \n",
            "\n",
            "   symmetry_worst  fractal_dimension_worst  \n",
            "0          0.2750                  0.08902  \n",
            "1          0.3613                  0.08758  \n",
            "2          0.2364                  0.07678  \n",
            "3          0.3985                  0.12440  \n",
            "4          0.3063                  0.08368  \n",
            "\n",
            "[5 rows x 32 columns]\n",
            "Original shape: (569, 32)\n",
            "Cleaned shape: (487, 32)\n"
          ]
        }
      ]
    },
    {
      "cell_type": "code",
      "source": [
        "data_cleaned.columns"
      ],
      "metadata": {
        "colab": {
          "base_uri": "https://localhost:8080/"
        },
        "id": "vMaOprDZFQh4",
        "outputId": "4ee17724-53cb-4103-b737-b2fdd5ca1b2b"
      },
      "execution_count": 59,
      "outputs": [
        {
          "output_type": "execute_result",
          "data": {
            "text/plain": [
              "Index(['id', 'diagnosis', 'radius_mean', 'texture_mean', 'perimeter_mean',\n",
              "       'area_mean', 'smoothness_mean', 'compactness_mean', 'concavity_mean',\n",
              "       'concave points_mean', 'symmetry_mean', 'fractal_dimension_mean',\n",
              "       'radius_se', 'texture_se', 'perimeter_se', 'area_se', 'smoothness_se',\n",
              "       'compactness_se', 'concavity_se', 'concave points_se', 'symmetry_se',\n",
              "       'fractal_dimension_se', 'radius_worst', 'texture_worst',\n",
              "       'perimeter_worst', 'area_worst', 'smoothness_worst',\n",
              "       'compactness_worst', 'concavity_worst', 'concave points_worst',\n",
              "       'symmetry_worst', 'fractal_dimension_worst'],\n",
              "      dtype='object')"
            ]
          },
          "metadata": {},
          "execution_count": 59
        }
      ]
    },
    {
      "cell_type": "code",
      "source": [
        "#label_encoding\n",
        "from sklearn.preprocessing import LabelEncoder\n",
        "le=LabelEncoder()\n",
        "data_cleaned.loc[:, \"diagnosis\"] = le.fit_transform(data_cleaned[\"diagnosis\"])\n",
        "print(data_cleaned.head())"
      ],
      "metadata": {
        "colab": {
          "base_uri": "https://localhost:8080/"
        },
        "id": "XphVwi1gGTse",
        "outputId": "da874803-ede8-452d-e1ba-5b005b8f7d2a"
      },
      "execution_count": 78,
      "outputs": [
        {
          "output_type": "stream",
          "name": "stdout",
          "text": [
            "         id diagnosis  radius_mean  texture_mean  perimeter_mean  area_mean  \\\n",
            "0    842517         1        20.57         17.77          132.90     1326.0   \n",
            "1  84300903         1        19.69         21.25          130.00     1203.0   \n",
            "2  84358402         1        20.29         14.34          135.10     1297.0   \n",
            "3    843786         1        12.45         15.70           82.57      477.1   \n",
            "4    844359         1        18.25         19.98          119.60     1040.0   \n",
            "\n",
            "   smoothness_mean  compactness_mean  concavity_mean  concave points_mean  \\\n",
            "0          0.08474           0.07864          0.0869              0.07017   \n",
            "1          0.10960           0.15990          0.1974              0.12790   \n",
            "2          0.10030           0.13280          0.1980              0.10430   \n",
            "3          0.12780           0.17000          0.1578              0.08089   \n",
            "4          0.09463           0.10900          0.1127              0.07400   \n",
            "\n",
            "   ...  radius_worst  texture_worst  perimeter_worst  area_worst  \\\n",
            "0  ...         24.99          23.41            158.8      1956.0   \n",
            "1  ...         23.57          25.53            152.5      1709.0   \n",
            "2  ...         22.54          16.67            152.2      1575.0   \n",
            "3  ...         15.47          23.75            103.4       741.6   \n",
            "4  ...         22.88          27.66            153.2      1606.0   \n",
            "\n",
            "   smoothness_worst  compactness_worst  concavity_worst  concave points_worst  \\\n",
            "0            0.1238             0.1866           0.2416                0.1860   \n",
            "1            0.1444             0.4245           0.4504                0.2430   \n",
            "2            0.1374             0.2050           0.4000                0.1625   \n",
            "3            0.1791             0.5249           0.5355                0.1741   \n",
            "4            0.1442             0.2576           0.3784                0.1932   \n",
            "\n",
            "   symmetry_worst  fractal_dimension_worst  \n",
            "0          0.2750                  0.08902  \n",
            "1          0.3613                  0.08758  \n",
            "2          0.2364                  0.07678  \n",
            "3          0.3985                  0.12440  \n",
            "4          0.3063                  0.08368  \n",
            "\n",
            "[5 rows x 32 columns]\n"
          ]
        }
      ]
    },
    {
      "cell_type": "code",
      "source": [
        "x=data_cleaned.drop(\"diagnosis\",axis=1)\n",
        "y=data_cleaned[\"diagnosis\"]"
      ],
      "metadata": {
        "id": "4i3CTgRsIYfa"
      },
      "execution_count": 79,
      "outputs": []
    },
    {
      "cell_type": "code",
      "source": [
        "#feature_selection(anova)\n",
        "from sklearn.feature_selection import SelectKBest, f_classif\n",
        "selector=SelectKBest(f_classif,k=10)\n",
        "selector.fit(x,y)\n",
        "selected_features=x.columns[selector.get_support()]\n",
        "x_anova=x[selected_features]\n",
        "x_anova=pd.DataFrame(x_anova)\n",
        "print(x_anova.head())"
      ],
      "metadata": {
        "colab": {
          "base_uri": "https://localhost:8080/"
        },
        "id": "V0Em82RZGxzb",
        "outputId": "d2dc4dab-7899-4662-a229-d4938adced48"
      },
      "execution_count": 80,
      "outputs": [
        {
          "output_type": "stream",
          "name": "stdout",
          "text": [
            "   radius_mean  perimeter_mean  area_mean  concavity_mean  \\\n",
            "0        20.57          132.90     1326.0          0.0869   \n",
            "1        19.69          130.00     1203.0          0.1974   \n",
            "2        20.29          135.10     1297.0          0.1980   \n",
            "3        12.45           82.57      477.1          0.1578   \n",
            "4        18.25          119.60     1040.0          0.1127   \n",
            "\n",
            "   concave points_mean  area_se  radius_worst  perimeter_worst  area_worst  \\\n",
            "0              0.07017    74.08         24.99            158.8      1956.0   \n",
            "1              0.12790    94.03         23.57            152.5      1709.0   \n",
            "2              0.10430    94.44         22.54            152.2      1575.0   \n",
            "3              0.08089    27.19         15.47            103.4       741.6   \n",
            "4              0.07400    53.91         22.88            153.2      1606.0   \n",
            "\n",
            "   concave points_worst  \n",
            "0                0.1860  \n",
            "1                0.2430  \n",
            "2                0.1625  \n",
            "3                0.1741  \n",
            "4                0.1932  \n"
          ]
        }
      ]
    },
    {
      "cell_type": "code",
      "source": [
        "#data joining\n",
        "new_data=pd.concat([x_anova,y], axis=1)\n",
        "print(new_data.head())"
      ],
      "metadata": {
        "colab": {
          "base_uri": "https://localhost:8080/"
        },
        "id": "hIoOHtrjI1nY",
        "outputId": "b95731ee-d08e-460c-dd0c-fc5fce492fb2"
      },
      "execution_count": 81,
      "outputs": [
        {
          "output_type": "stream",
          "name": "stdout",
          "text": [
            "   radius_mean  perimeter_mean  area_mean  concavity_mean  \\\n",
            "0        20.57          132.90     1326.0          0.0869   \n",
            "1        19.69          130.00     1203.0          0.1974   \n",
            "2        20.29          135.10     1297.0          0.1980   \n",
            "3        12.45           82.57      477.1          0.1578   \n",
            "4        18.25          119.60     1040.0          0.1127   \n",
            "\n",
            "   concave points_mean  area_se  radius_worst  perimeter_worst  area_worst  \\\n",
            "0              0.07017    74.08         24.99            158.8      1956.0   \n",
            "1              0.12790    94.03         23.57            152.5      1709.0   \n",
            "2              0.10430    94.44         22.54            152.2      1575.0   \n",
            "3              0.08089    27.19         15.47            103.4       741.6   \n",
            "4              0.07400    53.91         22.88            153.2      1606.0   \n",
            "\n",
            "   concave points_worst diagnosis  \n",
            "0                0.1860         1  \n",
            "1                0.2430         1  \n",
            "2                0.1625         1  \n",
            "3                0.1741         1  \n",
            "4                0.1932         1  \n"
          ]
        }
      ]
    },
    {
      "cell_type": "code",
      "source": [
        "x_new=new_data.drop(\"diagnosis\",axis=1)\n",
        "y_new=new_data[\"diagnosis\"]"
      ],
      "metadata": {
        "id": "3tvAGsl6J3iN"
      },
      "execution_count": 82,
      "outputs": []
    },
    {
      "cell_type": "code",
      "source": [
        "from sklearn.model_selection import train_test_split\n",
        "x_train,x_test,y_train,y_test=train_test_split(x_new,y_new,test_size=0.2)\n",
        "print(x_train.head())\n",
        "print(x_test.head())"
      ],
      "metadata": {
        "colab": {
          "base_uri": "https://localhost:8080/"
        },
        "id": "A40I-t5JKIVD",
        "outputId": "05204cba-dddd-4b53-e060-04cab23a1b84"
      },
      "execution_count": 83,
      "outputs": [
        {
          "output_type": "stream",
          "name": "stdout",
          "text": [
            "     radius_mean  perimeter_mean  area_mean  concavity_mean  \\\n",
            "78         20.26          132.40     1264.0         0.14650   \n",
            "326        12.21           78.78      462.0         0.06839   \n",
            "344        12.85           82.63      514.5         0.06126   \n",
            "111        18.45          120.20     1075.0         0.11530   \n",
            "459        20.55          137.80     1308.0         0.20850   \n",
            "\n",
            "     concave points_mean  area_se  radius_worst  perimeter_worst  area_worst  \\\n",
            "78               0.08683    87.87         24.22           156.10      1750.0   \n",
            "326              0.02534    19.96         13.13            87.65       529.9   \n",
            "344              0.01867    41.24         14.40            91.63       645.8   \n",
            "111              0.06847    68.35         22.52           145.60      1590.0   \n",
            "459              0.13220    87.78         24.30           160.20      1809.0   \n",
            "\n",
            "     concave points_worst  \n",
            "78                0.15730  \n",
            "326               0.09140  \n",
            "344               0.05601  \n",
            "111               0.13790  \n",
            "459               0.21480  \n",
            "     radius_mean  perimeter_mean  area_mean  concavity_mean  \\\n",
            "70        19.020          122.00     1076.0         0.14680   \n",
            "332       12.100           78.07      446.2         0.04783   \n",
            "312       22.010          147.20     1482.0         0.24480   \n",
            "311       12.210           78.31      458.4         0.04392   \n",
            "304        8.878           56.74      241.0         0.04721   \n",
            "\n",
            "     concave points_mean  area_se  radius_worst  perimeter_worst  area_worst  \\\n",
            "70               0.08271    57.65        24.560           152.90      1623.0   \n",
            "332              0.03326    22.22        13.560            88.33       559.5   \n",
            "312              0.15010   130.20        27.660           195.00      2227.0   \n",
            "311              0.02027    18.57        14.290            93.85       624.6   \n",
            "304              0.02381    30.18         9.981            65.27       302.0   \n",
            "\n",
            "     concave points_worst  \n",
            "70                0.19560  \n",
            "332               0.06266  \n",
            "312               0.24320  \n",
            "311               0.08829  \n",
            "304               0.04762  \n"
          ]
        }
      ]
    },
    {
      "cell_type": "code",
      "source": [
        "#model\n",
        "from xgboost import XGBClassifier\n",
        "model=XGBClassifier()\n",
        "model.fit(x_train,y_train)\n",
        "y_pred=model.predict(x_test)"
      ],
      "metadata": {
        "id": "IfoP9YyUK0aP"
      },
      "execution_count": 84,
      "outputs": []
    },
    {
      "cell_type": "code",
      "source": [
        "zn=model.predict([[20.65, 86.64, 466.75, 0.1644, 0.9324, 91.64, 21.53, 152.85, 1934.04, 0.1932]])\n",
        "print(\"Predict data\",zn)"
      ],
      "metadata": {
        "colab": {
          "base_uri": "https://localhost:8080/"
        },
        "id": "cMGJ_LCIN7MC",
        "outputId": "df122e7e-eef1-4866-bf88-3bbd887acfef"
      },
      "execution_count": 85,
      "outputs": [
        {
          "output_type": "stream",
          "name": "stdout",
          "text": [
            "Predict data [1]\n"
          ]
        }
      ]
    },
    {
      "cell_type": "code",
      "source": [
        "y_test_fixed = le.transform(y_test) if y_test.dtype == object else np.array(y_test)\n",
        "y_pred_fixed = np.array(y_pred)\n",
        "from sklearn.metrics import accuracy_score\n",
        "print(\"Accuracy:\", accuracy_score(y_test_fixed, y_pred_fixed))\n"
      ],
      "metadata": {
        "colab": {
          "base_uri": "https://localhost:8080/"
        },
        "id": "wjNxEkCBOrte",
        "outputId": "9b0eacf5-925a-482e-a443-97a262570edd"
      },
      "execution_count": 90,
      "outputs": [
        {
          "output_type": "stream",
          "name": "stdout",
          "text": [
            "Accuracy: 0.9387755102040817\n"
          ]
        }
      ]
    },
    {
      "cell_type": "code",
      "source": [],
      "metadata": {
        "id": "hJsMH6LLPoYG"
      },
      "execution_count": 20,
      "outputs": []
    }
  ]
}