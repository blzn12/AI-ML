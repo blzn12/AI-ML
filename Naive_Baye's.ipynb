{
  "nbformat": 4,
  "nbformat_minor": 0,
  "metadata": {
    "colab": {
      "provenance": []
    },
    "kernelspec": {
      "name": "python3",
      "display_name": "Python 3"
    },
    "language_info": {
      "name": "python"
    }
  },
  "cells": [
    {
      "cell_type": "code",
      "source": [
        "import pandas as pd\n",
        "import numpy as np\n",
        "data=pd.read_csv(\"/content/Marvel Vs DC.csv\")\n",
        "print(data.head())"
      ],
      "metadata": {
        "colab": {
          "base_uri": "https://localhost:8080/"
        },
        "id": "DKlQatR1JpR8",
        "outputId": "7a914df0-b6c6-42f1-b967-8cc2bfce245c"
      },
      "execution_count": 170,
      "outputs": [
        {
          "output_type": "stream",
          "name": "stdout",
          "text": [
            "   ID                              Movie      Year                     Genre  \\\n",
            "0   0                           Eternals     -2021    Action,Adventure,Drama   \n",
            "1   1                               Loki  (2021– )  Action,Adventure,Fantasy   \n",
            "2   2  The Falcon and the Winter Soldier     -2021    Action,Adventure,Drama   \n",
            "3   3                        WandaVision     -2021       Action,Comedy,Drama   \n",
            "4   4            Spider-Man: No Way Home     -2021   Action,Adventure,Sci-Fi   \n",
            "\n",
            "   RunTime Rating   Director  \\\n",
            "0      NaN    NaN  ChloéZhao   \n",
            "1      NaN    NaN        NaN   \n",
            "2   50 min  TV-14        NaN   \n",
            "3  350 min  TV-PG        NaN   \n",
            "4      NaN    NaN   JonWatts   \n",
            "\n",
            "                                               Actor  \\\n",
            "0  AngelinaJolie,GemmaChan,RichardMadden,BarryKeo...   \n",
            "1  TomHiddleston,OwenWilson,SophiaDiMartino,Richa...   \n",
            "2  AnthonyMackie,SebastianStan,WyattRussell,ErinK...   \n",
            "3  ElizabethOlsen,PaulBettany,KathrynHahn,Teyonah...   \n",
            "4        AngourieRice,TomHolland,Zendaya,MarisaTomei   \n",
            "\n",
            "                                         Description  IMDB_Score  Metascore  \\\n",
            "0  The saga of the Eternals, a race of immortal b...         NaN        NaN   \n",
            "1      A new Marvel chapter with Loki at its center.         NaN        NaN   \n",
            "2  Following the events of 'Avengers: Endgame,' S...         7.5        NaN   \n",
            "3  Blends the style of classic sitcoms with the M...         8.1        NaN   \n",
            "4       A continuation of Spider-Man: Far From Home.         NaN        NaN   \n",
            "\n",
            "  USA_Gross Category     Votes  \n",
            "0       NaN   Marvel       NaN  \n",
            "1       NaN   Marvel       NaN  \n",
            "2       NaN   Marvel  1,05,557  \n",
            "3       NaN   Marvel  1,74,710  \n",
            "4       NaN   Marvel       NaN  \n"
          ]
        }
      ]
    },
    {
      "cell_type": "code",
      "source": [
        "data.info()"
      ],
      "metadata": {
        "colab": {
          "base_uri": "https://localhost:8080/"
        },
        "id": "nAlcXCc1FdI-",
        "outputId": "f07504fb-175d-49b5-9bc1-8b9c7155d4b3"
      },
      "execution_count": 171,
      "outputs": [
        {
          "output_type": "stream",
          "name": "stdout",
          "text": [
            "<class 'pandas.core.frame.DataFrame'>\n",
            "RangeIndex: 1690 entries, 0 to 1689\n",
            "Data columns (total 14 columns):\n",
            " #   Column       Non-Null Count  Dtype  \n",
            "---  ------       --------------  -----  \n",
            " 0   ID           1690 non-null   int64  \n",
            " 1   Movie        1690 non-null   object \n",
            " 2   Year         1657 non-null   object \n",
            " 3   Genre        1683 non-null   object \n",
            " 4   RunTime      1407 non-null   object \n",
            " 5   Rating       1463 non-null   object \n",
            " 6   Director     1474 non-null   object \n",
            " 7   Actor        1660 non-null   object \n",
            " 8   Description  1690 non-null   object \n",
            " 9   IMDB_Score   1486 non-null   float64\n",
            " 10  Metascore    65 non-null     float64\n",
            " 11  USA_Gross    64 non-null     object \n",
            " 12  Category     1690 non-null   object \n",
            " 13  Votes        1486 non-null   object \n",
            "dtypes: float64(2), int64(1), object(11)\n",
            "memory usage: 185.0+ KB\n"
          ]
        }
      ]
    },
    {
      "cell_type": "code",
      "source": [
        "data.isnull().sum()"
      ],
      "metadata": {
        "colab": {
          "base_uri": "https://localhost:8080/",
          "height": 523
        },
        "id": "eZ_zC43-H3T0",
        "outputId": "ae525e4b-9fe3-4afa-8961-88c36f466cdc"
      },
      "execution_count": 172,
      "outputs": [
        {
          "output_type": "execute_result",
          "data": {
            "text/plain": [
              "ID                0\n",
              "Movie             0\n",
              "Year             33\n",
              "Genre             7\n",
              "RunTime         283\n",
              "Rating          227\n",
              "Director        216\n",
              "Actor            30\n",
              "Description       0\n",
              "IMDB_Score      204\n",
              "Metascore      1625\n",
              "USA_Gross      1626\n",
              "Category          0\n",
              "Votes           204\n",
              "dtype: int64"
            ],
            "text/html": [
              "<div>\n",
              "<style scoped>\n",
              "    .dataframe tbody tr th:only-of-type {\n",
              "        vertical-align: middle;\n",
              "    }\n",
              "\n",
              "    .dataframe tbody tr th {\n",
              "        vertical-align: top;\n",
              "    }\n",
              "\n",
              "    .dataframe thead th {\n",
              "        text-align: right;\n",
              "    }\n",
              "</style>\n",
              "<table border=\"1\" class=\"dataframe\">\n",
              "  <thead>\n",
              "    <tr style=\"text-align: right;\">\n",
              "      <th></th>\n",
              "      <th>0</th>\n",
              "    </tr>\n",
              "  </thead>\n",
              "  <tbody>\n",
              "    <tr>\n",
              "      <th>ID</th>\n",
              "      <td>0</td>\n",
              "    </tr>\n",
              "    <tr>\n",
              "      <th>Movie</th>\n",
              "      <td>0</td>\n",
              "    </tr>\n",
              "    <tr>\n",
              "      <th>Year</th>\n",
              "      <td>33</td>\n",
              "    </tr>\n",
              "    <tr>\n",
              "      <th>Genre</th>\n",
              "      <td>7</td>\n",
              "    </tr>\n",
              "    <tr>\n",
              "      <th>RunTime</th>\n",
              "      <td>283</td>\n",
              "    </tr>\n",
              "    <tr>\n",
              "      <th>Rating</th>\n",
              "      <td>227</td>\n",
              "    </tr>\n",
              "    <tr>\n",
              "      <th>Director</th>\n",
              "      <td>216</td>\n",
              "    </tr>\n",
              "    <tr>\n",
              "      <th>Actor</th>\n",
              "      <td>30</td>\n",
              "    </tr>\n",
              "    <tr>\n",
              "      <th>Description</th>\n",
              "      <td>0</td>\n",
              "    </tr>\n",
              "    <tr>\n",
              "      <th>IMDB_Score</th>\n",
              "      <td>204</td>\n",
              "    </tr>\n",
              "    <tr>\n",
              "      <th>Metascore</th>\n",
              "      <td>1625</td>\n",
              "    </tr>\n",
              "    <tr>\n",
              "      <th>USA_Gross</th>\n",
              "      <td>1626</td>\n",
              "    </tr>\n",
              "    <tr>\n",
              "      <th>Category</th>\n",
              "      <td>0</td>\n",
              "    </tr>\n",
              "    <tr>\n",
              "      <th>Votes</th>\n",
              "      <td>204</td>\n",
              "    </tr>\n",
              "  </tbody>\n",
              "</table>\n",
              "</div><br><label><b>dtype:</b> int64</label>"
            ]
          },
          "metadata": {},
          "execution_count": 172
        }
      ]
    },
    {
      "cell_type": "code",
      "source": [
        "\n",
        "#check duplication\n",
        "duplicate_row=data[data.duplicated()]\n",
        "data=data.drop(duplicate_row.index)\n",
        "data = data.drop(columns=['Description'])\n",
        "print(data.shape)"
      ],
      "metadata": {
        "colab": {
          "base_uri": "https://localhost:8080/"
        },
        "id": "cFtDvXwIM3tA",
        "outputId": "6545f29a-8505-47f5-facd-f884fde87ba5"
      },
      "execution_count": 173,
      "outputs": [
        {
          "output_type": "stream",
          "name": "stdout",
          "text": [
            "(1690, 13)\n"
          ]
        }
      ]
    },
    {
      "cell_type": "code",
      "source": [
        "data.columns"
      ],
      "metadata": {
        "colab": {
          "base_uri": "https://localhost:8080/"
        },
        "id": "x5dX8b3B6NmN",
        "outputId": "2c06e187-3926-46cc-9043-c23aa7daa0f9"
      },
      "execution_count": 174,
      "outputs": [
        {
          "output_type": "execute_result",
          "data": {
            "text/plain": [
              "Index(['ID', 'Movie', 'Year', 'Genre', 'RunTime', 'Rating', 'Director',\n",
              "       'Actor', 'IMDB_Score', 'Metascore', 'USA_Gross', 'Category', 'Votes'],\n",
              "      dtype='object')"
            ]
          },
          "metadata": {},
          "execution_count": 174
        }
      ]
    },
    {
      "cell_type": "code",
      "source": [
        "#fix null values\n",
        "columns_to_fill = ['ID', 'Movie', 'Year', 'Genre', 'RunTime', 'Rating', 'Director',\n",
        "       'Actor', 'IMDB_Score', 'Metascore', 'USA_Gross', 'Category', 'Votes']\n",
        "\n",
        "# Fill nulls with mode\n",
        "for col in columns_to_fill:\n",
        "    data[col] = data[col].fillna(data[col].mode()[0])\n",
        "\n",
        "# Optional: Check if nulls remain\n",
        "print(data[columns_to_fill].isnull().sum())\n",
        "print(data.head())"
      ],
      "metadata": {
        "colab": {
          "base_uri": "https://localhost:8080/"
        },
        "id": "X67czPTCyBmL",
        "outputId": "55bba847-b41c-4829-89d4-18ed6b96d92f"
      },
      "execution_count": 175,
      "outputs": [
        {
          "output_type": "stream",
          "name": "stdout",
          "text": [
            "ID            0\n",
            "Movie         0\n",
            "Year          0\n",
            "Genre         0\n",
            "RunTime       0\n",
            "Rating        0\n",
            "Director      0\n",
            "Actor         0\n",
            "IMDB_Score    0\n",
            "Metascore     0\n",
            "USA_Gross     0\n",
            "Category      0\n",
            "Votes         0\n",
            "dtype: int64\n",
            "   ID                              Movie      Year                     Genre  \\\n",
            "0   0                           Eternals     -2021    Action,Adventure,Drama   \n",
            "1   1                               Loki  (2021– )  Action,Adventure,Fantasy   \n",
            "2   2  The Falcon and the Winter Soldier     -2021    Action,Adventure,Drama   \n",
            "3   3                        WandaVision     -2021       Action,Comedy,Drama   \n",
            "4   4            Spider-Man: No Way Home     -2021   Action,Adventure,Sci-Fi   \n",
            "\n",
            "   RunTime Rating   Director  \\\n",
            "0   22 min  TV-PG  ChloéZhao   \n",
            "1   22 min  TV-PG    DanRiba   \n",
            "2   50 min  TV-14    DanRiba   \n",
            "3  350 min  TV-PG    DanRiba   \n",
            "4   22 min  TV-PG   JonWatts   \n",
            "\n",
            "                                               Actor  IMDB_Score  Metascore  \\\n",
            "0  AngelinaJolie,GemmaChan,RichardMadden,BarryKeo...         8.1       70.0   \n",
            "1  TomHiddleston,OwenWilson,SophiaDiMartino,Richa...         8.1       70.0   \n",
            "2  AnthonyMackie,SebastianStan,WyattRussell,ErinK...         7.5       70.0   \n",
            "3  ElizabethOlsen,PaulBettany,KathrynHahn,Teyonah...         8.1       70.0   \n",
            "4        AngourieRice,TomHolland,Zendaya,MarisaTomei         8.1       70.0   \n",
            "\n",
            "  USA_Gross Category     Votes  \n",
            "0    $0.53M   Marvel        22  \n",
            "1    $0.53M   Marvel        22  \n",
            "2    $0.53M   Marvel  1,05,557  \n",
            "3    $0.53M   Marvel  1,74,710  \n",
            "4    $0.53M   Marvel        22  \n"
          ]
        }
      ]
    },
    {
      "cell_type": "code",
      "source": [
        "#Remove outlayout(z_score)\n",
        "\n",
        "from scipy.stats import zscore\n",
        "\n",
        "numeric_cols = data.select_dtypes(include=[np.number]).columns\n",
        "z_scores = zscore(data[numeric_cols])\n",
        "z_scores_df = pd.DataFrame(z_scores, columns=numeric_cols)\n",
        "outliers = (np.abs(z_scores_df) > 3).any(axis=1)\n",
        "data = data[~outliers]\n",
        "data.reset_index(drop=True, inplace=True)\n",
        "\n",
        "print(data.head())\n",
        "print(\"Original shape:\", data.shape)\n",
        "print(\"Cleaned shape:\", data.shape)"
      ],
      "metadata": {
        "colab": {
          "base_uri": "https://localhost:8080/"
        },
        "id": "wJimh1iXWr8C",
        "outputId": "0c1408df-48ae-4f32-a978-4035763a49ae"
      },
      "execution_count": 176,
      "outputs": [
        {
          "output_type": "stream",
          "name": "stdout",
          "text": [
            "   ID                              Movie      Year                     Genre  \\\n",
            "0   0                           Eternals     -2021    Action,Adventure,Drama   \n",
            "1   1                               Loki  (2021– )  Action,Adventure,Fantasy   \n",
            "2   2  The Falcon and the Winter Soldier     -2021    Action,Adventure,Drama   \n",
            "3   3                        WandaVision     -2021       Action,Comedy,Drama   \n",
            "4   4            Spider-Man: No Way Home     -2021   Action,Adventure,Sci-Fi   \n",
            "\n",
            "   RunTime Rating   Director  \\\n",
            "0   22 min  TV-PG  ChloéZhao   \n",
            "1   22 min  TV-PG    DanRiba   \n",
            "2   50 min  TV-14    DanRiba   \n",
            "3  350 min  TV-PG    DanRiba   \n",
            "4   22 min  TV-PG   JonWatts   \n",
            "\n",
            "                                               Actor  IMDB_Score  Metascore  \\\n",
            "0  AngelinaJolie,GemmaChan,RichardMadden,BarryKeo...         8.1       70.0   \n",
            "1  TomHiddleston,OwenWilson,SophiaDiMartino,Richa...         8.1       70.0   \n",
            "2  AnthonyMackie,SebastianStan,WyattRussell,ErinK...         7.5       70.0   \n",
            "3  ElizabethOlsen,PaulBettany,KathrynHahn,Teyonah...         8.1       70.0   \n",
            "4        AngourieRice,TomHolland,Zendaya,MarisaTomei         8.1       70.0   \n",
            "\n",
            "  USA_Gross Category     Votes  \n",
            "0    $0.53M   Marvel        22  \n",
            "1    $0.53M   Marvel        22  \n",
            "2    $0.53M   Marvel  1,05,557  \n",
            "3    $0.53M   Marvel  1,74,710  \n",
            "4    $0.53M   Marvel        22  \n",
            "Original shape: (1649, 13)\n",
            "Cleaned shape: (1649, 13)\n"
          ]
        }
      ]
    },
    {
      "cell_type": "code",
      "source": [
        "data.isnull().sum()"
      ],
      "metadata": {
        "colab": {
          "base_uri": "https://localhost:8080/",
          "height": 491
        },
        "id": "WCtEBMbb7fkr",
        "outputId": "4bdcf8fb-e865-4e01-db3e-5bc673dc2246"
      },
      "execution_count": 177,
      "outputs": [
        {
          "output_type": "execute_result",
          "data": {
            "text/plain": [
              "ID            0\n",
              "Movie         0\n",
              "Year          0\n",
              "Genre         0\n",
              "RunTime       0\n",
              "Rating        0\n",
              "Director      0\n",
              "Actor         0\n",
              "IMDB_Score    0\n",
              "Metascore     0\n",
              "USA_Gross     0\n",
              "Category      0\n",
              "Votes         0\n",
              "dtype: int64"
            ],
            "text/html": [
              "<div>\n",
              "<style scoped>\n",
              "    .dataframe tbody tr th:only-of-type {\n",
              "        vertical-align: middle;\n",
              "    }\n",
              "\n",
              "    .dataframe tbody tr th {\n",
              "        vertical-align: top;\n",
              "    }\n",
              "\n",
              "    .dataframe thead th {\n",
              "        text-align: right;\n",
              "    }\n",
              "</style>\n",
              "<table border=\"1\" class=\"dataframe\">\n",
              "  <thead>\n",
              "    <tr style=\"text-align: right;\">\n",
              "      <th></th>\n",
              "      <th>0</th>\n",
              "    </tr>\n",
              "  </thead>\n",
              "  <tbody>\n",
              "    <tr>\n",
              "      <th>ID</th>\n",
              "      <td>0</td>\n",
              "    </tr>\n",
              "    <tr>\n",
              "      <th>Movie</th>\n",
              "      <td>0</td>\n",
              "    </tr>\n",
              "    <tr>\n",
              "      <th>Year</th>\n",
              "      <td>0</td>\n",
              "    </tr>\n",
              "    <tr>\n",
              "      <th>Genre</th>\n",
              "      <td>0</td>\n",
              "    </tr>\n",
              "    <tr>\n",
              "      <th>RunTime</th>\n",
              "      <td>0</td>\n",
              "    </tr>\n",
              "    <tr>\n",
              "      <th>Rating</th>\n",
              "      <td>0</td>\n",
              "    </tr>\n",
              "    <tr>\n",
              "      <th>Director</th>\n",
              "      <td>0</td>\n",
              "    </tr>\n",
              "    <tr>\n",
              "      <th>Actor</th>\n",
              "      <td>0</td>\n",
              "    </tr>\n",
              "    <tr>\n",
              "      <th>IMDB_Score</th>\n",
              "      <td>0</td>\n",
              "    </tr>\n",
              "    <tr>\n",
              "      <th>Metascore</th>\n",
              "      <td>0</td>\n",
              "    </tr>\n",
              "    <tr>\n",
              "      <th>USA_Gross</th>\n",
              "      <td>0</td>\n",
              "    </tr>\n",
              "    <tr>\n",
              "      <th>Category</th>\n",
              "      <td>0</td>\n",
              "    </tr>\n",
              "    <tr>\n",
              "      <th>Votes</th>\n",
              "      <td>0</td>\n",
              "    </tr>\n",
              "  </tbody>\n",
              "</table>\n",
              "</div><br><label><b>dtype:</b> int64</label>"
            ]
          },
          "metadata": {},
          "execution_count": 177
        }
      ]
    },
    {
      "cell_type": "code",
      "source": [
        "from sklearn.preprocessing import LabelEncoder\n",
        "import pandas as pd\n",
        "\n",
        "data['Votes'] = data[\"Votes\"].astype(str).str.replace(',', '', regex=False).astype(float)\n",
        "\n",
        "def clean_gross(gross):\n",
        "    if isinstance(gross, str):\n",
        "        gross = gross.replace('$', '').strip()\n",
        "        if 'M' in gross:\n",
        "            return float(gross.replace('M', '')) * 1e6\n",
        "        elif 'K' in gross:\n",
        "            return float(gross.replace('K', '')) * 1e3\n",
        "        else:\n",
        "            try:\n",
        "                return float(gross)\n",
        "            except ValueError:\n",
        "                return None\n",
        "    return gross\n",
        "\n",
        "data[\"USA_Gross\"] = data[\"USA_Gross\"].apply(clean_gross)\n",
        "data[\"Year\"] = pd.to_numeric(data[\"Year\"].astype(str).str.extract('(\\d{4})')[0], errors='coerce')\n",
        "\n",
        "cat_cols = ['Movie', 'Genre', 'Rating', 'Director', 'Actor', 'Category']\n",
        "le = LabelEncoder()\n",
        "for col in cat_cols:\n",
        "    data[col] = le.fit_transform(data[col].astype(str))\n",
        "\n",
        "data[\"RunTime\"] = pd.to_numeric(data[\"RunTime\"].astype(str).str.extract('(\\d+)')[0], errors='coerce')\n",
        "\n",
        "cols_to_check = [\"Year\", \"RunTime\", \"Votes\", \"IMDB_Score\", \"Metascore\", \"USA_Gross\"]\n",
        "for col in cols_to_check:\n",
        "    data[col] = pd.to_numeric(data[col], errors='coerce')\n",
        "    if data[col].isnull().sum() > 0:\n",
        "        mode_val = data[col].mode().iloc[0]\n",
        "        data[col].fillna(mode_val, inplace=True)\n",
        "    data[col] = data[col].astype(int)\n",
        "\n",
        "print(data.dtypes)\n",
        "print(data.head())\n"
      ],
      "metadata": {
        "colab": {
          "base_uri": "https://localhost:8080/"
        },
        "id": "1nV6K--AISTV",
        "outputId": "4f97beee-c48b-45c2-d6ea-a8122f504fb6"
      },
      "execution_count": 178,
      "outputs": [
        {
          "output_type": "stream",
          "name": "stdout",
          "text": [
            "ID            int64\n",
            "Movie         int64\n",
            "Year          int64\n",
            "Genre         int64\n",
            "RunTime       int64\n",
            "Rating        int64\n",
            "Director      int64\n",
            "Actor         int64\n",
            "IMDB_Score    int64\n",
            "Metascore     int64\n",
            "USA_Gross     int64\n",
            "Category      int64\n",
            "Votes         int64\n",
            "dtype: object\n",
            "   ID  Movie  Year  Genre  RunTime  Rating  Director  Actor  IMDB_Score  \\\n",
            "0   0    149  2021      4       22      11        65     19           8   \n",
            "1   1    202  2021      5       22      11        89    674           8   \n",
            "2   2    271  2021      4       50       8        89     26           7   \n",
            "3   3    310  2021      9      350      11        89    158           8   \n",
            "4   4    245  2021      6       22      11       199     20           8   \n",
            "\n",
            "   Metascore  USA_Gross  Category   Votes  \n",
            "0         70     530000         1      22  \n",
            "1         70     530000         1      22  \n",
            "2         70     530000         1  105557  \n",
            "3         70     530000         1  174710  \n",
            "4         70     530000         1      22  \n"
          ]
        },
        {
          "output_type": "stream",
          "name": "stderr",
          "text": [
            "/tmp/ipython-input-3675633208.py:35: FutureWarning: A value is trying to be set on a copy of a DataFrame or Series through chained assignment using an inplace method.\n",
            "The behavior will change in pandas 3.0. This inplace method will never work because the intermediate object on which we are setting values always behaves as a copy.\n",
            "\n",
            "For example, when doing 'df[col].method(value, inplace=True)', try using 'df.method({col: value}, inplace=True)' or df[col] = df[col].method(value) instead, to perform the operation inplace on the original object.\n",
            "\n",
            "\n",
            "  data[col].fillna(mode_val, inplace=True)\n"
          ]
        }
      ]
    },
    {
      "cell_type": "code",
      "source": [
        "x=data.drop([\"Category\"],axis=1)\n",
        "y=data[\"Category\"]"
      ],
      "metadata": {
        "id": "2nsWjhS14E8J"
      },
      "execution_count": 179,
      "outputs": []
    },
    {
      "cell_type": "code",
      "source": [
        "#anova\n",
        "from sklearn.feature_selection import SelectKBest, f_classif\n",
        "numeric_col_x=x.select_dtypes(include='number').columns\n",
        "\n",
        "selector=SelectKBest(score_func=f_classif, k=7)\n",
        "selector.fit(x[numeric_col_x],y)\n",
        "selected_cols=numeric_col_x[selector.get_support()]\n",
        "x_anova=x[selected_cols]\n",
        "print(x_anova.head())"
      ],
      "metadata": {
        "id": "pL1xz0UEV_eV",
        "colab": {
          "base_uri": "https://localhost:8080/"
        },
        "outputId": "51f8bce8-813c-47d4-cf9c-9a4ed2b50883"
      },
      "execution_count": 180,
      "outputs": [
        {
          "output_type": "stream",
          "name": "stdout",
          "text": [
            "   ID  Year  Genre  RunTime  Rating  Actor  USA_Gross\n",
            "0   0  2021      4       22      11     19     530000\n",
            "1   1  2021      5       22      11    674     530000\n",
            "2   2  2021      4       50       8     26     530000\n",
            "3   3  2021      9      350      11    158     530000\n",
            "4   4  2021      6       22      11     20     530000\n"
          ]
        }
      ]
    },
    {
      "cell_type": "code",
      "source": [
        "#chi_square\n",
        "from sklearn.feature_selection import SelectKBest, f_classif, chi2\n",
        "categorical_cols=x.select_dtypes(include=\"number\").columns\n",
        "\n",
        "x_categorical=x[categorical_cols]\n",
        "x_categorical_clipped=x_categorical.clip(lower=0)\n",
        "\n",
        "selector = SelectKBest(score_func=chi2, k=7)\n",
        "selector.fit(x_categorical_clipped, y)\n",
        "\n",
        "selected_cols = categorical_cols[selector.get_support()]\n",
        "x_chi2 = x[selected_cols]\n",
        "\n",
        "print(x_chi2.head())"
      ],
      "metadata": {
        "id": "kjwV318n5Eih",
        "colab": {
          "base_uri": "https://localhost:8080/"
        },
        "outputId": "fb9b089f-b30c-47aa-baa6-6857ef138c9b"
      },
      "execution_count": 181,
      "outputs": [
        {
          "output_type": "stream",
          "name": "stdout",
          "text": [
            "   ID  Movie  Genre  RunTime  Actor  USA_Gross   Votes\n",
            "0   0    149      4       22     19     530000      22\n",
            "1   1    202      5       22    674     530000      22\n",
            "2   2    271      4       50     26     530000  105557\n",
            "3   3    310      9      350    158     530000  174710\n",
            "4   4    245      6       22     20     530000      22\n"
          ]
        }
      ]
    },
    {
      "cell_type": "code",
      "source": [
        "#create new column withh chi2 and anova\n",
        "x_final = pd.concat([x_anova, x_chi2], axis=1)\n",
        "x_final = x_final.loc[:, ~x_final.columns.duplicated()]\n",
        "print(x_final.head())"
      ],
      "metadata": {
        "colab": {
          "base_uri": "https://localhost:8080/"
        },
        "id": "cYmdUoQjKuW7",
        "outputId": "f23e167f-9d3c-4109-f906-0fc2473ebc66"
      },
      "execution_count": 182,
      "outputs": [
        {
          "output_type": "stream",
          "name": "stdout",
          "text": [
            "   ID  Year  Genre  RunTime  Rating  Actor  USA_Gross  Movie   Votes\n",
            "0   0  2021      4       22      11     19     530000    149      22\n",
            "1   1  2021      5       22      11    674     530000    202      22\n",
            "2   2  2021      4       50       8     26     530000    271  105557\n",
            "3   3  2021      9      350      11    158     530000    310  174710\n",
            "4   4  2021      6       22      11     20     530000    245      22\n"
          ]
        }
      ]
    },
    {
      "cell_type": "code",
      "source": [
        "x_final.columns"
      ],
      "metadata": {
        "colab": {
          "base_uri": "https://localhost:8080/"
        },
        "id": "2Kr694NbLOWy",
        "outputId": "2a5d8de9-bb61-464d-aebb-565b565379e9"
      },
      "execution_count": 183,
      "outputs": [
        {
          "output_type": "execute_result",
          "data": {
            "text/plain": [
              "Index(['ID', 'Year', 'Genre', 'RunTime', 'Rating', 'Actor', 'USA_Gross',\n",
              "       'Movie', 'Votes'],\n",
              "      dtype='object')"
            ]
          },
          "metadata": {},
          "execution_count": 183
        }
      ]
    },
    {
      "cell_type": "code",
      "source": [
        "#skew normalization\n",
        "from sklearn.preprocessing import PowerTransformer\n",
        "\n",
        "pt=PowerTransformer()\n",
        "cols=['ID', 'Movie', 'Year', 'Genre', 'RunTime', 'Actor', 'USA_Gross',\n",
        "       'Votes']\n",
        "x_final[cols]=pt.fit_transform(x_final[cols])\n",
        "skew_values=x_final[cols].skew()\n",
        "\n",
        "print(skew_values)\n",
        "print(x_final.head())"
      ],
      "metadata": {
        "colab": {
          "base_uri": "https://localhost:8080/"
        },
        "id": "pzVz259VLZXY",
        "outputId": "4c4f80b3-dc9b-4a09-a3e9-a885d6ab5a1d"
      },
      "execution_count": 184,
      "outputs": [
        {
          "output_type": "stream",
          "name": "stdout",
          "text": [
            "ID          -0.297072\n",
            "Movie       -0.001279\n",
            "Year        -0.038718\n",
            "Genre       -0.158675\n",
            "RunTime      0.115640\n",
            "Actor       -0.316828\n",
            "USA_Gross    0.000000\n",
            "Votes        0.002729\n",
            "dtype: float64\n",
            "         ID      Year     Genre   RunTime  Rating     Actor  USA_Gross  \\\n",
            "0 -2.170548  1.747919 -1.335669 -0.593160      11 -1.799933        0.0   \n",
            "1 -2.159934  1.747919 -1.209301 -0.593160      11  1.043690        0.0   \n",
            "2 -2.150708  1.747919 -1.335669  0.828325       8 -1.728364        0.0   \n",
            "3 -2.142283  1.747919 -0.797985  5.157553      11 -0.869238        0.0   \n",
            "4 -2.134406  1.747919 -1.094498 -0.593160      11 -1.789205        0.0   \n",
            "\n",
            "      Movie     Votes  \n",
            "0  1.356532 -1.317691  \n",
            "1  1.682679 -1.317691  \n",
            "2  2.011022  2.209215  \n",
            "3  2.165773  2.382813  \n",
            "4  1.896809 -1.317691  \n"
          ]
        },
        {
          "output_type": "stream",
          "name": "stderr",
          "text": [
            "/usr/local/lib/python3.11/dist-packages/numpy/_core/_methods.py:188: RuntimeWarning: overflow encountered in multiply\n",
            "  x = um.multiply(x, x, out=x)\n"
          ]
        }
      ]
    },
    {
      "cell_type": "code",
      "source": [
        "#scalling\n",
        "from sklearn.preprocessing import MinMaxScaler\n",
        "scaler=MinMaxScaler()\n",
        "\n",
        "# Convert x_final back to DataFrame before scaling\n",
        "x_final = pd.DataFrame(x_final, columns=['ID', 'Year', 'Genre', 'RunTime', 'Rating', 'Actor', 'USA_Gross',\n",
        "       'Movie', 'Votes'])\n",
        "x_final_scaled = scaler.fit_transform(x_final)\n",
        "x_final_scaled = pd.DataFrame(x_final_scaled, columns=x_final.columns)\n",
        "print(x_final_scaled.head())"
      ],
      "metadata": {
        "colab": {
          "base_uri": "https://localhost:8080/"
        },
        "id": "mMbSUiLgMzUe",
        "outputId": "d96501e6-0411-4fd9-fc87-f364666128e5"
      },
      "execution_count": 185,
      "outputs": [
        {
          "output_type": "stream",
          "name": "stdout",
          "text": [
            "         ID     Year     Genre   RunTime    Rating     Actor  USA_Gross  \\\n",
            "0  0.000000  0.94802  0.179631  0.328523  0.733333  0.081906        0.0   \n",
            "1  0.002850  0.94802  0.208903  0.328523  0.733333  0.884890        0.0   \n",
            "2  0.005328  0.94802  0.179631  0.467701  0.533333  0.102115        0.0   \n",
            "3  0.007591  0.94802  0.304183  0.891578  0.733333  0.344716        0.0   \n",
            "4  0.009706  0.94802  0.235497  0.328523  0.733333  0.084935        0.0   \n",
            "\n",
            "      Movie     Votes  \n",
            "0  0.818292  0.134841  \n",
            "1  0.887730  0.134841  \n",
            "2  0.957635  0.826616  \n",
            "3  0.990582  0.860666  \n",
            "4  0.933319  0.134841  \n"
          ]
        }
      ]
    },
    {
      "cell_type": "code",
      "source": [
        "#join the data\n",
        "new_data=pd.concat([x_final_scaled,y],axis=1)\n",
        "print(new_data.head())"
      ],
      "metadata": {
        "colab": {
          "base_uri": "https://localhost:8080/"
        },
        "id": "0iA59X8CY5zA",
        "outputId": "4435543b-4179-4dad-f719-7764295aafd7"
      },
      "execution_count": 186,
      "outputs": [
        {
          "output_type": "stream",
          "name": "stdout",
          "text": [
            "         ID     Year     Genre   RunTime    Rating     Actor  USA_Gross  \\\n",
            "0  0.000000  0.94802  0.179631  0.328523  0.733333  0.081906        0.0   \n",
            "1  0.002850  0.94802  0.208903  0.328523  0.733333  0.884890        0.0   \n",
            "2  0.005328  0.94802  0.179631  0.467701  0.533333  0.102115        0.0   \n",
            "3  0.007591  0.94802  0.304183  0.891578  0.733333  0.344716        0.0   \n",
            "4  0.009706  0.94802  0.235497  0.328523  0.733333  0.084935        0.0   \n",
            "\n",
            "      Movie     Votes  Category  \n",
            "0  0.818292  0.134841         1  \n",
            "1  0.887730  0.134841         1  \n",
            "2  0.957635  0.826616         1  \n",
            "3  0.990582  0.860666         1  \n",
            "4  0.933319  0.134841         1  \n"
          ]
        }
      ]
    },
    {
      "cell_type": "code",
      "source": [
        "from sklearn.model_selection import train_test_split\n",
        "x_new=new_data.drop(\"Category\",axis=1)\n",
        "y_new=new_data[\"Category\"]\n",
        "\n",
        "x_train, x_test, y_train,y_test=train_test_split(x_new,y_new,test_size=0.2,random_state=42)\n",
        "\n",
        "print(x_train.head())\n",
        "print(y_train.head())"
      ],
      "metadata": {
        "colab": {
          "base_uri": "https://localhost:8080/"
        },
        "id": "J8iDc5tBaGN1",
        "outputId": "98a86eb5-97a1-4b79-a62a-cefb943558ee"
      },
      "execution_count": 187,
      "outputs": [
        {
          "output_type": "stream",
          "name": "stdout",
          "text": [
            "            ID      Year     Genre   RunTime    Rating     Actor  USA_Gross  \\\n",
            "584   0.480310  0.494972  0.584151  0.328523  0.200000  0.942216        0.0   \n",
            "63    0.094837  0.826817  0.817253  0.724141  0.533333  0.210352        0.0   \n",
            "1182  0.788316  0.696541  0.584151  0.328523  0.733333  0.440823        0.0   \n",
            "1640  0.996510  0.738234  0.146774  0.436318  0.733333  0.836774        0.0   \n",
            "1466  0.919449  0.804000  0.179631  0.436318  0.533333  0.691519        0.0   \n",
            "\n",
            "         Movie     Votes  \n",
            "584   0.231513  0.361322  \n",
            "63    0.971617  0.532722  \n",
            "1182  0.646615  0.433794  \n",
            "1640  0.174109  0.549238  \n",
            "1466  0.588760  0.512794  \n",
            "584     0\n",
            "63      1\n",
            "1182    0\n",
            "1640    0\n",
            "1466    0\n",
            "Name: Category, dtype: int64\n"
          ]
        }
      ]
    },
    {
      "cell_type": "code",
      "source": [
        "from sklearn.naive_bayes import GaussianNB\n",
        "model=GaussianNB()\n",
        "model.fit(x_train,y_train)\n",
        "predicted=model.predict(x_train)"
      ],
      "metadata": {
        "id": "3vZOzbjZbLAX"
      },
      "execution_count": 188,
      "outputs": []
    },
    {
      "cell_type": "code",
      "source": [
        "new_data.tail()"
      ],
      "metadata": {
        "colab": {
          "base_uri": "https://localhost:8080/",
          "height": 226
        },
        "id": "ag6LX7G3cOzH",
        "outputId": "e8d6c9c2-5b5b-452a-8922-dea13b7a891d"
      },
      "execution_count": 189,
      "outputs": [
        {
          "output_type": "execute_result",
          "data": {
            "text/plain": [
              "            ID      Year     Genre   RunTime    Rating     Actor  USA_Gross  \\\n",
              "1644  0.998255  0.826817  0.179631  0.436318  0.533333  0.151254        0.0   \n",
              "1645  0.998692  0.804000  0.179631  0.436318  0.733333  0.692491        0.0   \n",
              "1646  0.999128  0.804000  0.179631  0.436318  0.733333  0.692491        0.0   \n",
              "1647  0.999564  0.804000  0.179631  0.436318  0.733333  0.692491        0.0   \n",
              "1648  1.000000  0.804000  0.179631  0.436318  0.733333  0.692491        0.0   \n",
              "\n",
              "         Movie     Votes  Category  \n",
              "1644  0.373437  0.533752         0  \n",
              "1645  0.588760  0.494040         0  \n",
              "1646  0.588760  0.479283         0  \n",
              "1647  0.588760  0.477934         0  \n",
              "1648  0.588760  0.478014         0  "
            ],
            "text/html": [
              "\n",
              "  <div id=\"df-5a1a3676-4317-4aa0-9efa-91af001deb58\" class=\"colab-df-container\">\n",
              "    <div>\n",
              "<style scoped>\n",
              "    .dataframe tbody tr th:only-of-type {\n",
              "        vertical-align: middle;\n",
              "    }\n",
              "\n",
              "    .dataframe tbody tr th {\n",
              "        vertical-align: top;\n",
              "    }\n",
              "\n",
              "    .dataframe thead th {\n",
              "        text-align: right;\n",
              "    }\n",
              "</style>\n",
              "<table border=\"1\" class=\"dataframe\">\n",
              "  <thead>\n",
              "    <tr style=\"text-align: right;\">\n",
              "      <th></th>\n",
              "      <th>ID</th>\n",
              "      <th>Year</th>\n",
              "      <th>Genre</th>\n",
              "      <th>RunTime</th>\n",
              "      <th>Rating</th>\n",
              "      <th>Actor</th>\n",
              "      <th>USA_Gross</th>\n",
              "      <th>Movie</th>\n",
              "      <th>Votes</th>\n",
              "      <th>Category</th>\n",
              "    </tr>\n",
              "  </thead>\n",
              "  <tbody>\n",
              "    <tr>\n",
              "      <th>1644</th>\n",
              "      <td>0.998255</td>\n",
              "      <td>0.826817</td>\n",
              "      <td>0.179631</td>\n",
              "      <td>0.436318</td>\n",
              "      <td>0.533333</td>\n",
              "      <td>0.151254</td>\n",
              "      <td>0.0</td>\n",
              "      <td>0.373437</td>\n",
              "      <td>0.533752</td>\n",
              "      <td>0</td>\n",
              "    </tr>\n",
              "    <tr>\n",
              "      <th>1645</th>\n",
              "      <td>0.998692</td>\n",
              "      <td>0.804000</td>\n",
              "      <td>0.179631</td>\n",
              "      <td>0.436318</td>\n",
              "      <td>0.733333</td>\n",
              "      <td>0.692491</td>\n",
              "      <td>0.0</td>\n",
              "      <td>0.588760</td>\n",
              "      <td>0.494040</td>\n",
              "      <td>0</td>\n",
              "    </tr>\n",
              "    <tr>\n",
              "      <th>1646</th>\n",
              "      <td>0.999128</td>\n",
              "      <td>0.804000</td>\n",
              "      <td>0.179631</td>\n",
              "      <td>0.436318</td>\n",
              "      <td>0.733333</td>\n",
              "      <td>0.692491</td>\n",
              "      <td>0.0</td>\n",
              "      <td>0.588760</td>\n",
              "      <td>0.479283</td>\n",
              "      <td>0</td>\n",
              "    </tr>\n",
              "    <tr>\n",
              "      <th>1647</th>\n",
              "      <td>0.999564</td>\n",
              "      <td>0.804000</td>\n",
              "      <td>0.179631</td>\n",
              "      <td>0.436318</td>\n",
              "      <td>0.733333</td>\n",
              "      <td>0.692491</td>\n",
              "      <td>0.0</td>\n",
              "      <td>0.588760</td>\n",
              "      <td>0.477934</td>\n",
              "      <td>0</td>\n",
              "    </tr>\n",
              "    <tr>\n",
              "      <th>1648</th>\n",
              "      <td>1.000000</td>\n",
              "      <td>0.804000</td>\n",
              "      <td>0.179631</td>\n",
              "      <td>0.436318</td>\n",
              "      <td>0.733333</td>\n",
              "      <td>0.692491</td>\n",
              "      <td>0.0</td>\n",
              "      <td>0.588760</td>\n",
              "      <td>0.478014</td>\n",
              "      <td>0</td>\n",
              "    </tr>\n",
              "  </tbody>\n",
              "</table>\n",
              "</div>\n",
              "    <div class=\"colab-df-buttons\">\n",
              "\n",
              "  <div class=\"colab-df-container\">\n",
              "    <button class=\"colab-df-convert\" onclick=\"convertToInteractive('df-5a1a3676-4317-4aa0-9efa-91af001deb58')\"\n",
              "            title=\"Convert this dataframe to an interactive table.\"\n",
              "            style=\"display:none;\">\n",
              "\n",
              "  <svg xmlns=\"http://www.w3.org/2000/svg\" height=\"24px\" viewBox=\"0 -960 960 960\">\n",
              "    <path d=\"M120-120v-720h720v720H120Zm60-500h600v-160H180v160Zm220 220h160v-160H400v160Zm0 220h160v-160H400v160ZM180-400h160v-160H180v160Zm440 0h160v-160H620v160ZM180-180h160v-160H180v160Zm440 0h160v-160H620v160Z\"/>\n",
              "  </svg>\n",
              "    </button>\n",
              "\n",
              "  <style>\n",
              "    .colab-df-container {\n",
              "      display:flex;\n",
              "      gap: 12px;\n",
              "    }\n",
              "\n",
              "    .colab-df-convert {\n",
              "      background-color: #E8F0FE;\n",
              "      border: none;\n",
              "      border-radius: 50%;\n",
              "      cursor: pointer;\n",
              "      display: none;\n",
              "      fill: #1967D2;\n",
              "      height: 32px;\n",
              "      padding: 0 0 0 0;\n",
              "      width: 32px;\n",
              "    }\n",
              "\n",
              "    .colab-df-convert:hover {\n",
              "      background-color: #E2EBFA;\n",
              "      box-shadow: 0px 1px 2px rgba(60, 64, 67, 0.3), 0px 1px 3px 1px rgba(60, 64, 67, 0.15);\n",
              "      fill: #174EA6;\n",
              "    }\n",
              "\n",
              "    .colab-df-buttons div {\n",
              "      margin-bottom: 4px;\n",
              "    }\n",
              "\n",
              "    [theme=dark] .colab-df-convert {\n",
              "      background-color: #3B4455;\n",
              "      fill: #D2E3FC;\n",
              "    }\n",
              "\n",
              "    [theme=dark] .colab-df-convert:hover {\n",
              "      background-color: #434B5C;\n",
              "      box-shadow: 0px 1px 3px 1px rgba(0, 0, 0, 0.15);\n",
              "      filter: drop-shadow(0px 1px 2px rgba(0, 0, 0, 0.3));\n",
              "      fill: #FFFFFF;\n",
              "    }\n",
              "  </style>\n",
              "\n",
              "    <script>\n",
              "      const buttonEl =\n",
              "        document.querySelector('#df-5a1a3676-4317-4aa0-9efa-91af001deb58 button.colab-df-convert');\n",
              "      buttonEl.style.display =\n",
              "        google.colab.kernel.accessAllowed ? 'block' : 'none';\n",
              "\n",
              "      async function convertToInteractive(key) {\n",
              "        const element = document.querySelector('#df-5a1a3676-4317-4aa0-9efa-91af001deb58');\n",
              "        const dataTable =\n",
              "          await google.colab.kernel.invokeFunction('convertToInteractive',\n",
              "                                                    [key], {});\n",
              "        if (!dataTable) return;\n",
              "\n",
              "        const docLinkHtml = 'Like what you see? Visit the ' +\n",
              "          '<a target=\"_blank\" href=https://colab.research.google.com/notebooks/data_table.ipynb>data table notebook</a>'\n",
              "          + ' to learn more about interactive tables.';\n",
              "        element.innerHTML = '';\n",
              "        dataTable['output_type'] = 'display_data';\n",
              "        await google.colab.output.renderOutput(dataTable, element);\n",
              "        const docLink = document.createElement('div');\n",
              "        docLink.innerHTML = docLinkHtml;\n",
              "        element.appendChild(docLink);\n",
              "      }\n",
              "    </script>\n",
              "  </div>\n",
              "\n",
              "\n",
              "    <div id=\"df-30027120-310a-4c8e-a5a5-055fe5c373d3\">\n",
              "      <button class=\"colab-df-quickchart\" onclick=\"quickchart('df-30027120-310a-4c8e-a5a5-055fe5c373d3')\"\n",
              "                title=\"Suggest charts\"\n",
              "                style=\"display:none;\">\n",
              "\n",
              "<svg xmlns=\"http://www.w3.org/2000/svg\" height=\"24px\"viewBox=\"0 0 24 24\"\n",
              "     width=\"24px\">\n",
              "    <g>\n",
              "        <path d=\"M19 3H5c-1.1 0-2 .9-2 2v14c0 1.1.9 2 2 2h14c1.1 0 2-.9 2-2V5c0-1.1-.9-2-2-2zM9 17H7v-7h2v7zm4 0h-2V7h2v10zm4 0h-2v-4h2v4z\"/>\n",
              "    </g>\n",
              "</svg>\n",
              "      </button>\n",
              "\n",
              "<style>\n",
              "  .colab-df-quickchart {\n",
              "      --bg-color: #E8F0FE;\n",
              "      --fill-color: #1967D2;\n",
              "      --hover-bg-color: #E2EBFA;\n",
              "      --hover-fill-color: #174EA6;\n",
              "      --disabled-fill-color: #AAA;\n",
              "      --disabled-bg-color: #DDD;\n",
              "  }\n",
              "\n",
              "  [theme=dark] .colab-df-quickchart {\n",
              "      --bg-color: #3B4455;\n",
              "      --fill-color: #D2E3FC;\n",
              "      --hover-bg-color: #434B5C;\n",
              "      --hover-fill-color: #FFFFFF;\n",
              "      --disabled-bg-color: #3B4455;\n",
              "      --disabled-fill-color: #666;\n",
              "  }\n",
              "\n",
              "  .colab-df-quickchart {\n",
              "    background-color: var(--bg-color);\n",
              "    border: none;\n",
              "    border-radius: 50%;\n",
              "    cursor: pointer;\n",
              "    display: none;\n",
              "    fill: var(--fill-color);\n",
              "    height: 32px;\n",
              "    padding: 0;\n",
              "    width: 32px;\n",
              "  }\n",
              "\n",
              "  .colab-df-quickchart:hover {\n",
              "    background-color: var(--hover-bg-color);\n",
              "    box-shadow: 0 1px 2px rgba(60, 64, 67, 0.3), 0 1px 3px 1px rgba(60, 64, 67, 0.15);\n",
              "    fill: var(--button-hover-fill-color);\n",
              "  }\n",
              "\n",
              "  .colab-df-quickchart-complete:disabled,\n",
              "  .colab-df-quickchart-complete:disabled:hover {\n",
              "    background-color: var(--disabled-bg-color);\n",
              "    fill: var(--disabled-fill-color);\n",
              "    box-shadow: none;\n",
              "  }\n",
              "\n",
              "  .colab-df-spinner {\n",
              "    border: 2px solid var(--fill-color);\n",
              "    border-color: transparent;\n",
              "    border-bottom-color: var(--fill-color);\n",
              "    animation:\n",
              "      spin 1s steps(1) infinite;\n",
              "  }\n",
              "\n",
              "  @keyframes spin {\n",
              "    0% {\n",
              "      border-color: transparent;\n",
              "      border-bottom-color: var(--fill-color);\n",
              "      border-left-color: var(--fill-color);\n",
              "    }\n",
              "    20% {\n",
              "      border-color: transparent;\n",
              "      border-left-color: var(--fill-color);\n",
              "      border-top-color: var(--fill-color);\n",
              "    }\n",
              "    30% {\n",
              "      border-color: transparent;\n",
              "      border-left-color: var(--fill-color);\n",
              "      border-top-color: var(--fill-color);\n",
              "      border-right-color: var(--fill-color);\n",
              "    }\n",
              "    40% {\n",
              "      border-color: transparent;\n",
              "      border-right-color: var(--fill-color);\n",
              "      border-top-color: var(--fill-color);\n",
              "    }\n",
              "    60% {\n",
              "      border-color: transparent;\n",
              "      border-right-color: var(--fill-color);\n",
              "    }\n",
              "    80% {\n",
              "      border-color: transparent;\n",
              "      border-right-color: var(--fill-color);\n",
              "      border-bottom-color: var(--fill-color);\n",
              "    }\n",
              "    90% {\n",
              "      border-color: transparent;\n",
              "      border-bottom-color: var(--fill-color);\n",
              "    }\n",
              "  }\n",
              "</style>\n",
              "\n",
              "      <script>\n",
              "        async function quickchart(key) {\n",
              "          const quickchartButtonEl =\n",
              "            document.querySelector('#' + key + ' button');\n",
              "          quickchartButtonEl.disabled = true;  // To prevent multiple clicks.\n",
              "          quickchartButtonEl.classList.add('colab-df-spinner');\n",
              "          try {\n",
              "            const charts = await google.colab.kernel.invokeFunction(\n",
              "                'suggestCharts', [key], {});\n",
              "          } catch (error) {\n",
              "            console.error('Error during call to suggestCharts:', error);\n",
              "          }\n",
              "          quickchartButtonEl.classList.remove('colab-df-spinner');\n",
              "          quickchartButtonEl.classList.add('colab-df-quickchart-complete');\n",
              "        }\n",
              "        (() => {\n",
              "          let quickchartButtonEl =\n",
              "            document.querySelector('#df-30027120-310a-4c8e-a5a5-055fe5c373d3 button');\n",
              "          quickchartButtonEl.style.display =\n",
              "            google.colab.kernel.accessAllowed ? 'block' : 'none';\n",
              "        })();\n",
              "      </script>\n",
              "    </div>\n",
              "\n",
              "    </div>\n",
              "  </div>\n"
            ],
            "application/vnd.google.colaboratory.intrinsic+json": {
              "type": "dataframe",
              "summary": "{\n  \"name\": \"new_data\",\n  \"rows\": 5,\n  \"fields\": [\n    {\n      \"column\": \"ID\",\n      \"properties\": {\n        \"dtype\": \"number\",\n        \"std\": 0.00068964559599922,\n        \"min\": 0.9982553192976229,\n        \"max\": 1.0,\n        \"num_unique_values\": 5,\n        \"samples\": [\n          0.9986915926991645,\n          1.0,\n          0.9991277972489891\n        ],\n        \"semantic_type\": \"\",\n        \"description\": \"\"\n      }\n    },\n    {\n      \"column\": \"Year\",\n      \"properties\": {\n        \"dtype\": \"number\",\n        \"std\": 0.010204027941742161,\n        \"min\": 0.8040002795100489,\n        \"max\": 0.8268171796320917,\n        \"num_unique_values\": 2,\n        \"samples\": [\n          0.8040002795100489,\n          0.8268171796320917\n        ],\n        \"semantic_type\": \"\",\n        \"description\": \"\"\n      }\n    },\n    {\n      \"column\": \"Genre\",\n      \"properties\": {\n        \"dtype\": \"number\",\n        \"std\": 0.0,\n        \"min\": 0.17963052266064922,\n        \"max\": 0.17963052266064922,\n        \"num_unique_values\": 1,\n        \"samples\": [\n          0.17963052266064922\n        ],\n        \"semantic_type\": \"\",\n        \"description\": \"\"\n      }\n    },\n    {\n      \"column\": \"RunTime\",\n      \"properties\": {\n        \"dtype\": \"number\",\n        \"std\": 0.0,\n        \"min\": 0.4363178387544625,\n        \"max\": 0.4363178387544625,\n        \"num_unique_values\": 1,\n        \"samples\": [\n          0.4363178387544625\n        ],\n        \"semantic_type\": \"\",\n        \"description\": \"\"\n      }\n    },\n    {\n      \"column\": \"Rating\",\n      \"properties\": {\n        \"dtype\": \"number\",\n        \"std\": 0.08944271909999157,\n        \"min\": 0.5333333333333333,\n        \"max\": 0.7333333333333333,\n        \"num_unique_values\": 2,\n        \"samples\": [\n          0.7333333333333333\n        ],\n        \"semantic_type\": \"\",\n        \"description\": \"\"\n      }\n    },\n    {\n      \"column\": \"Actor\",\n      \"properties\": {\n        \"dtype\": \"number\",\n        \"std\": 0.24204861238549147,\n        \"min\": 0.15125371394254267,\n        \"max\": 0.6924908650959991,\n        \"num_unique_values\": 2,\n        \"samples\": [\n          0.6924908650959991\n        ],\n        \"semantic_type\": \"\",\n        \"description\": \"\"\n      }\n    },\n    {\n      \"column\": \"USA_Gross\",\n      \"properties\": {\n        \"dtype\": \"number\",\n        \"std\": 0.0,\n        \"min\": 0.0,\n        \"max\": 0.0,\n        \"num_unique_values\": 1,\n        \"samples\": [\n          0.0\n        ],\n        \"semantic_type\": \"\",\n        \"description\": \"\"\n      }\n    },\n    {\n      \"column\": \"Movie\",\n      \"properties\": {\n        \"dtype\": \"number\",\n        \"std\": 0.0962955062556852,\n        \"min\": 0.37343652039961883,\n        \"max\": 0.5887598183150872,\n        \"num_unique_values\": 2,\n        \"samples\": [\n          0.5887598183150872\n        ],\n        \"semantic_type\": \"\",\n        \"description\": \"\"\n      }\n    },\n    {\n      \"column\": \"Votes\",\n      \"properties\": {\n        \"dtype\": \"number\",\n        \"std\": 0.023983049244342806,\n        \"min\": 0.47793355862842246,\n        \"max\": 0.5337517774088011,\n        \"num_unique_values\": 5,\n        \"samples\": [\n          0.49403981212531617\n        ],\n        \"semantic_type\": \"\",\n        \"description\": \"\"\n      }\n    },\n    {\n      \"column\": \"Category\",\n      \"properties\": {\n        \"dtype\": \"number\",\n        \"std\": 0,\n        \"min\": 0,\n        \"max\": 0,\n        \"num_unique_values\": 1,\n        \"samples\": [\n          0\n        ],\n        \"semantic_type\": \"\",\n        \"description\": \"\"\n      }\n    }\n  ]\n}"
            }
          },
          "metadata": {},
          "execution_count": 189
        }
      ]
    },
    {
      "cell_type": "code",
      "source": [
        "zn=model.predict([[1.000001,0.804001,0.179631,0.436318,0.733333,0.692491,0.0,0.588760,0.533752]])\n",
        "print(zn)"
      ],
      "metadata": {
        "colab": {
          "base_uri": "https://localhost:8080/"
        },
        "id": "zlPejnVAb48J",
        "outputId": "bff878ad-6b8d-49ab-a4e7-f86f235caaee"
      },
      "execution_count": 190,
      "outputs": [
        {
          "output_type": "stream",
          "name": "stdout",
          "text": [
            "[0]\n"
          ]
        },
        {
          "output_type": "stream",
          "name": "stderr",
          "text": [
            "/usr/local/lib/python3.11/dist-packages/sklearn/utils/validation.py:2739: UserWarning: X does not have valid feature names, but GaussianNB was fitted with feature names\n",
            "  warnings.warn(\n"
          ]
        }
      ]
    },
    {
      "cell_type": "code",
      "source": [
        "from sklearn.metrics import top_k_accuracy_score, accuracy_score\n",
        "print(accuracy_score(y_train,predicted))"
      ],
      "metadata": {
        "colab": {
          "base_uri": "https://localhost:8080/"
        },
        "id": "Ofx6k1dtdWQg",
        "outputId": "470abe5a-8793-4a11-9e6f-b65e05b3f278"
      },
      "execution_count": 191,
      "outputs": [
        {
          "output_type": "stream",
          "name": "stdout",
          "text": [
            "0.9711902956785443\n"
          ]
        }
      ]
    },
    {
      "cell_type": "code",
      "source": [],
      "metadata": {
        "id": "FI1hRLUediPu"
      },
      "execution_count": 191,
      "outputs": []
    }
  ]
}